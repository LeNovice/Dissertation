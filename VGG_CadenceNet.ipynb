{
  "cells": [
    {
      "cell_type": "markdown",
      "metadata": {
        "id": "view-in-github",
        "colab_type": "text"
      },
      "source": [
        "<a href=\"https://colab.research.google.com/github/LeNovice/Dissertation/blob/main/VGG_CadenceNet.ipynb\" target=\"_parent\"><img src=\"https://colab.research.google.com/assets/colab-badge.svg\" alt=\"Open In Colab\"/></a>"
      ]
    },
    {
      "cell_type": "code",
      "execution_count": null,
      "metadata": {
        "id": "BCeppY1fBRsz"
      },
      "outputs": [],
      "source": [
        "USE_ORIGINAL = 0\n",
        "loss = 'categorical_crossentropy'"
      ]
    },
    {
      "cell_type": "code",
      "execution_count": null,
      "metadata": {
        "id": "IYvbodAaO5NT"
      },
      "outputs": [],
      "source": [
        "import tensorflow_datasets as tfds\n",
        "import numpy as np\n",
        "#For plotting the dataset\n",
        "import matplotlib.pyplot as plt\n",
        "from keras.preprocessing.image import ImageDataGenerator\n",
        "#Data pipeline preparation\n",
        "import tensorflow as tf\n",
        "from tensorflow.keras import layers\n",
        "#model building\n",
        "from tensorflow.keras import models\n",
        "import tensorflow.keras.utils as tfutils\n",
        "import os\n",
        "import copy"
      ]
    },
    {
      "cell_type": "code",
      "execution_count": null,
      "metadata": {
        "id": "bJSJfW_tPA88"
      },
      "outputs": [],
      "source": [
        "NUM_CLASSES = 10\n",
        "\n",
        "DataSet = 'cifar10'\n",
        "#'caltech101'\n",
        "#'cifar10'\n",
        "def num_samples_per_class(ds_train, get_top_10 = False, print_all = False):\n",
        "    vals = np.unique(np.fromiter(ds_train.map(lambda x, y: y), int), return_counts=True)\n",
        "    class_list = []\n",
        "    class_hist = []\n",
        "    for val,count in zip(*vals):\n",
        "        if print_all==True:\n",
        "            print(int(val), count)\n",
        "        class_hist.append((val,count))\n",
        "    if get_top_10 == True:\n",
        "        sorted_tuple = sorted(class_hist, key=lambda t: t[-1], reverse=True)[:(NUM_CLASSES + 1)]    #+1 because we are going to remove \"backround_google\" i.e. 4\n",
        "        class_list = [x for x,y in sorted_tuple]\n",
        "    return class_list\n",
        "\n",
        "def filter_fn(x, allowed_classes:list):\n",
        "    allowed_classes = tf.constant(allowed_classes)\n",
        "    isallowed = tf.equal(allowed_classes, tf.cast(x, allowed_classes.dtype))\n",
        "    reduced_sum = tf.reduce_sum(tf.cast(isallowed, tf.float32))\n",
        "    return tf.greater(reduced_sum, tf.constant(0.))"
      ]
    },
    {
      "cell_type": "code",
      "execution_count": null,
      "metadata": {
        "id": "2fLIbNS2PDZ1"
      },
      "outputs": [],
      "source": [
        "if DataSet == 'caltech101':\n",
        "    ds_train, train_info = tfds.load(DataSet, split='test[0:90%]', as_supervised=True, with_info = True)\n",
        "    ds_test = tfds.load(DataSet, split='train', as_supervised=True)\n",
        "    ds_val = tfds.load(DataSet, split='test[90%:]', as_supervised=True) \n",
        "else:\n",
        "    ds_train, train_info = tfds.load(DataSet, split='train[0:80%]', as_supervised=True, with_info = True)   #taking 0 to 80% for training\n",
        "    ds_test = tfds.load(DataSet, split='test', as_supervised=True)        \n",
        "    ds_val = tfds.load(DataSet, split='test[80%:]', as_supervised=True)                                     #taking data from 80% point to the end of the dataset (100%) for validation\n"
      ]
    },
    {
      "cell_type": "code",
      "execution_count": null,
      "metadata": {
        "colab": {
          "base_uri": "https://localhost:8080/"
        },
        "id": "QOoGq7JtPGn8",
        "outputId": "fa2ea47e-a16d-49fc-9702-b435e89e99e0"
      },
      "outputs": [
        {
          "name": "stderr",
          "output_type": "stream",
          "text": [
            "WARNING:tensorflow:From /usr/local/lib/python3.8/dist-packages/tensorflow/python/autograph/pyct/static_analysis/liveness.py:83: Analyzer.lamba_check (from tensorflow.python.autograph.pyct.static_analysis.liveness) is deprecated and will be removed after 2023-09-23.\n",
            "Instructions for updating:\n",
            "Lambda fuctions will be no more assumed to be used in the statement where they are used, or at least in the same block. https://github.com/tensorflow/tensorflow/issues/56089\n"
          ]
        }
      ],
      "source": [
        "class_list = num_samples_per_class(ds_train, get_top_10=True)\n",
        "if DataSet == 'caltech101':\n",
        "  class_list = [i for i in class_list if i != train_info.features['label'].str2int('background_google')]\n",
        "  class_list.sort()\n",
        "class_names = [train_info.features['label'].int2str(i) for i in class_list]"
      ]
    },
    {
      "cell_type": "code",
      "execution_count": null,
      "metadata": {
        "id": "VeThcLypHU4m"
      },
      "outputs": [],
      "source": [
        "resized_ds_train = ds_train.filter(lambda x, y: filter_fn(y, class_list)) # as_supervised\n",
        "resized_ds_test = ds_test.filter(lambda x, y: filter_fn(y, class_list))\n",
        "resized_ds_val = ds_val.filter(lambda x, y: filter_fn(y, class_list))"
      ]
    },
    {
      "cell_type": "code",
      "execution_count": null,
      "metadata": {
        "id": "QdPKLGVdPNrk"
      },
      "outputs": [],
      "source": [
        "#Hyperparameters\n",
        "if DataSet=='caltech101':\n",
        "    IMG_SIZE = 60\n",
        "elif DataSet=='cifar10':\n",
        "    IMG_SIZE = 32\n",
        "NUM_CHANNELS = 3\n",
        "BATCH_SIZE=128\n",
        "\n",
        "input_shape = (IMG_SIZE,IMG_SIZE,NUM_CHANNELS)\n",
        "#Relabelling to avoid issues. Note that human readability is reduced by this\n",
        "table = tf.lookup.StaticHashTable(\n",
        "    initializer=tf.lookup.KeyValueTensorInitializer(\n",
        "        keys=tf.constant(class_list, dtype=tf.int64),\n",
        "        values=tf.constant([0, 1, 2, 3, 4, 5, 6, 7, 8, 9],  dtype=tf.int64)\n",
        "    ),\n",
        "    default_value= tf.constant(0,  dtype=tf.int64)\n",
        ")\n",
        "\n",
        "#This function will be used in the graph execution hence @tf.function prefix\n",
        "@tf.function\n",
        "def map_func(label):\n",
        "    global class_list\n",
        "    global loss\n",
        "    mapped_label = table.lookup(label)\n",
        "    if loss != 'sparse_categorical_crossentropy':\n",
        "        mapped_label = tf.one_hot(indices=mapped_label, depth=NUM_CLASSES)\n",
        "    print(\"Label = \" + str(label) + \"\\t\" + \"Mapped Label = \" + str(mapped_label))\n",
        "    return mapped_label\n",
        "\n",
        "#Preprocessing done as part of the graph\n",
        "resize_and_rescale = tf.keras.Sequential([\n",
        "  layers.Resizing(IMG_SIZE, IMG_SIZE),\n",
        "  layers.Rescaling(1./255)\n",
        "])\n",
        "\n",
        "resize_layer = tf.keras.Sequential([\n",
        "  layers.Resizing(IMG_SIZE, IMG_SIZE),\n",
        "])\n",
        "\n",
        "data_augmentation = tf.keras.Sequential([\n",
        "  layers.RandomFlip(\"horizontal_and_vertical\"),\n",
        "  layers.RandomRotation(0.2),\n",
        "])\n",
        "\n",
        "buffer_size = 30*NUM_CLASSES\n",
        "\n",
        "#Preprocessing function which invokes above graphs\n",
        "def prepare(ds, shuffle=False, augment=False, resize_only = False):\n",
        "    global buffer_size\n",
        "    global BATCH_SIZE\n",
        "    \n",
        "\n",
        "    # Resize and rescale all datasets.\n",
        "    if resize_only==True:\n",
        "        ds = ds.map(lambda x, y: (resize_layer(x), map_func(y)), num_parallel_calls=tf.data.AUTOTUNE)\n",
        "    else:\n",
        "        ds = ds.map(lambda x, y: (resize_and_rescale(x), map_func(y)), num_parallel_calls=tf.data.AUTOTUNE)\n",
        "    \n",
        "    if shuffle:\n",
        "        ds = ds.shuffle(buffer_size)\n",
        "        \n",
        "    # Batch all datasets.\n",
        "    #ds = ds.batch(BATCH_SIZE)\n",
        "\n",
        "    # Use data augmentation only on the training set.\n",
        "    if augment:\n",
        "        ds_aug = ds.map(lambda x, y: (data_augmentation(x, training=True), y), num_parallel_calls=tf.data.AUTOTUNE)\n",
        "        ds = ds.concatenate(ds_aug)\n",
        "\n",
        "        \n",
        "    # Use buffered prefetching on all datasets.\n",
        "    return ds.prefetch(buffer_size=tf.data.AUTOTUNE)"
      ]
    },
    {
      "cell_type": "code",
      "execution_count": null,
      "metadata": {
        "colab": {
          "base_uri": "https://localhost:8080/"
        },
        "id": "LmLFCHD6PgLw",
        "outputId": "88c2ea52-2cf8-471b-f363-5fa19c5e27b4"
      },
      "outputs": [
        {
          "name": "stdout",
          "output_type": "stream",
          "text": [
            "Label = Tensor(\"label:0\", shape=(), dtype=int64)\tMapped Label = Tensor(\"one_hot:0\", shape=(10,), dtype=float32)\n"
          ]
        }
      ],
      "source": [
        "resized_ds_train = prepare(resized_ds_train, augment=True)\n",
        "resized_ds_test = prepare(resized_ds_test)\n",
        "resized_ds_val = prepare(resized_ds_val)"
      ]
    },
    {
      "cell_type": "code",
      "execution_count": null,
      "metadata": {
        "id": "uf1KScmu9odE"
      },
      "outputs": [],
      "source": [
        "def num_samples_per_class_onehot(resized_ds_train, print_all=False):\n",
        "    if loss != 'sparse_categorical_crossentropy':\n",
        "        vals = np.unique(np.fromiter(resized_ds_train.map(lambda x, y: tf.argmax(y)), int), return_counts=True)\n",
        "    else:\n",
        "        vals = np.unique(np.fromiter(resized_ds_train.map(lambda x, y: y), int), return_counts=True)\n",
        "    class_list = []\n",
        "    class_hist = []\n",
        "    for val,count in zip(*vals):\n",
        "        if print_all==True:\n",
        "            print(int(val), count)\n",
        "        class_hist.append((val,count))\n",
        "    class_hist.sort()\n",
        "    return class_hist\n",
        "#Post prepare function, all the labels will be converted to one hot encoders. In order to get class-wise distribution, we will need to convert each one hot encoder into its label (temporarily)\n",
        "#We need a new function to handle it\n",
        "class_hist = num_samples_per_class_onehot(resized_ds_train)\n"
      ]
    },
    {
      "cell_type": "code",
      "execution_count": null,
      "metadata": {
        "colab": {
          "base_uri": "https://localhost:8080/",
          "height": 35
        },
        "id": "ftnZ5OyvQB98",
        "outputId": "21fcdccd-5ae6-4372-e0d3-6e5cc61eea52"
      },
      "outputs": [
        {
          "data": {
            "application/vnd.google.colaboratory.intrinsic+json": {
              "type": "string"
            },
            "text/plain": [
              "'Quantization scheme experiments'"
            ]
          },
          "metadata": {},
          "output_type": "display_data"
        }
      ],
      "source": [
        "#reg = tf.keras.regularizers.L2(0.01)\n",
        "reg = tf.keras.regularizers.L1L2(l1 =0.0, l2 = 0.1)\n",
        "#reg = tf.keras.regularizers.L1L2(l1 =0.0, l2 = 0.0)\n",
        "#beta_regularizer = 0.1\n",
        "#gamma_regularizer = 0.1\n",
        "\n",
        "model = models.Sequential()\n",
        "kernel_size = (3,3)\n",
        "pool_size = (2,2)\n",
        "if USE_ORIGINAL == 1:\n",
        "\tdisplay(\"Default quantization scheme\")\n",
        "\t\n",
        "\tmodel.add(layers.Conv2D(32, kernel_size, kernel_initializer='he_uniform', kernel_regularizer = reg, padding='same', input_shape=(IMG_SIZE, IMG_SIZE, NUM_CHANNELS)))\n",
        "\tmodel.add(layers.BatchNormalization())\n",
        "\tmodel.add(layers.ReLU())\n",
        "\tmodel.add(layers.Conv2D(32, kernel_size, kernel_initializer='he_uniform', kernel_regularizer = reg, padding='same'))\n",
        "\tmodel.add(layers.BatchNormalization())\n",
        "\tmodel.add(layers.ReLU())\n",
        "\tmodel.add(layers.MaxPooling2D(pool_size))\n",
        "\tmodel.add(layers.Dropout(0.1))\n",
        "\t\n",
        "\tmodel.add(layers.Conv2D(64, kernel_size, kernel_initializer='he_uniform', kernel_regularizer = reg, padding='same'))\n",
        "\tmodel.add(layers.BatchNormalization())\n",
        "\tmodel.add(layers.ReLU())\n",
        "\tmodel.add(layers.Conv2D(64, kernel_size, kernel_initializer='he_uniform', kernel_regularizer = reg, padding='same'))\n",
        "\tmodel.add(layers.BatchNormalization())\n",
        "\tmodel.add(layers.ReLU())\n",
        "\tmodel.add(layers.MaxPooling2D(pool_size))\n",
        "\tmodel.add(layers.Dropout(0.2))\n",
        "\t\n",
        "\tmodel.add(layers.Conv2D(128, kernel_size, kernel_initializer='he_uniform', kernel_regularizer = reg, padding='same'))\n",
        "\tmodel.add(layers.BatchNormalization())\n",
        "\tmodel.add(layers.ReLU())\n",
        "\tmodel.add(layers.Conv2D(128, kernel_size, kernel_initializer='he_uniform', kernel_regularizer = reg, padding='same'))\n",
        "\tmodel.add(layers.BatchNormalization())\n",
        "\tmodel.add(layers.ReLU())\n",
        "\tmodel.add(layers.MaxPooling2D(pool_size))\n",
        "\tmodel.add(layers.Dropout(0.3))\n",
        "\t\n",
        "\tmodel.add(layers.Flatten())\n",
        "\tmodel.add(layers.Dense(128, kernel_initializer='he_uniform', kernel_regularizer = reg))\n",
        "\tif 0:\n",
        "\t\t\"\"\"\n",
        "\t\tThe converter quantizes batchnorm iff it follows a Conv2D layer. Hence we remove this BatchNorm layer (although it helps in accuracy).\n",
        "\t\tSo we trade off accuracy for smaller model size\n",
        "\t\t\"\"\"\n",
        "\t\tmodel.add(layers.BatchNormalization())\n",
        "\tmodel.add(layers.ReLU())\n",
        "\tmodel.add(layers.Dropout(0.2))\n",
        "\tmodel.add(layers.Dense(NUM_CLASSES, kernel_regularizer = reg))\n",
        "\tmodel.add(layers.Softmax())\n",
        "else:\n",
        "\tdisplay(\"Quantization scheme experiments\")\n",
        "\t\n",
        "\tmodel.add(layers.Conv2D(32, kernel_size, kernel_initializer='he_uniform', kernel_regularizer = reg, padding='same', input_shape=(IMG_SIZE, IMG_SIZE, NUM_CHANNELS)))\n",
        "\tmodel.add(layers.BatchNormalization())\n",
        "\tmodel.add(layers.ReLU())\n",
        "\tmodel.add(layers.Conv2D(32, kernel_size, kernel_initializer='he_uniform', kernel_regularizer = reg, padding='same'))\n",
        "\tmodel.add(layers.BatchNormalization())\n",
        "\tmodel.add(layers.ReLU())\n",
        "\tmodel.add(layers.MaxPooling2D(pool_size))\n",
        "\tmodel.add(layers.Dropout(0.1))\n",
        "\t\n",
        "\tmodel.add(layers.Conv2D(64, kernel_size, kernel_initializer='he_uniform', kernel_regularizer = reg, padding='same'))\n",
        "\tmodel.add(layers.BatchNormalization())\n",
        "\tmodel.add(layers.ReLU())\n",
        "\tmodel.add(layers.Conv2D(64, kernel_size, kernel_initializer='he_uniform', kernel_regularizer = reg, padding='same'))\n",
        "\tmodel.add(layers.BatchNormalization())\n",
        "\tmodel.add(layers.ReLU())\n",
        "\tmodel.add(layers.MaxPooling2D(pool_size))\n",
        "\tmodel.add(layers.Dropout(0.2))\n",
        "\t\n",
        "\tmodel.add(layers.Conv2D(128, kernel_size, kernel_initializer='he_uniform', kernel_regularizer = reg, padding='same'))\n",
        "\tmodel.add(layers.BatchNormalization())\n",
        "\tmodel.add(layers.ReLU())\n",
        "\tmodel.add(layers.Conv2D(128, kernel_size, kernel_initializer='he_uniform', kernel_regularizer = reg, padding='same'))\n",
        "\tmodel.add(layers.BatchNormalization())\n",
        "\tmodel.add(layers.ReLU())\n",
        "\tmodel.add(layers.MaxPooling2D(pool_size))\n",
        "\tmodel.add(layers.Dropout(0.3))\n",
        "\t\n",
        "\tmodel.add(layers.Flatten())\n",
        "\tmodel.add(layers.Dense(128, kernel_initializer='he_uniform', kernel_regularizer = reg))\n",
        "\tif 0:\n",
        "\t\t\"\"\"\n",
        "\t\tThe converter quantizes batchnorm iff it follows a Conv2D layer. Hence we remove this BatchNorm layer (although it helps in accuracy).\n",
        "\t\tSo we trade off accuracy for smaller model size\n",
        "\t\t\"\"\"\n",
        "\t\tmodel.add(layers.BatchNormalization())\n",
        "\tmodel.add(layers.ReLU())\n",
        "\tmodel.add(layers.Dropout(0.2))\n",
        "\tmodel.add(layers.Dense(NUM_CLASSES, kernel_regularizer = reg))\n",
        "\tmodel.add(layers.Softmax())"
      ]
    },
    {
      "cell_type": "code",
      "execution_count": null,
      "metadata": {
        "id": "B-aANPwedhNH"
      },
      "outputs": [],
      "source": [
        "def get_class_weights(class_hist):\n",
        "    \"\"\"\n",
        "    Returns the class weights as a tf.Tensor. Class weights are inverse of the class frequencies\n",
        "    Class frequencies are the number of samples of each class which we calculate in earlier steps\n",
        "    \"\"\"\n",
        "    inv_freq = tf.convert_to_tensor([1.0/count for label, count in class_hist], dtype=tf.float32)\n",
        "    return tfutils.normalize(inv_freq)\n",
        "\n",
        "\n",
        "def weightedloss(y_true, y_pred, gamma, class_weight):\n",
        "    \"\"\"\n",
        "    We assume that all arguments coming into this function are tf.Tensors type\n",
        "    class_weights are basically alpha in focal loss paper\n",
        "    \"\"\"\n",
        "    #ones = tf.convert_to_tensor(np.ones(shape=len(y_true)))\n",
        "    a = tf.math.multiply(tf.math.pow(tf.math.subtract(1.0, y_pred), gamma), tf.math.log(y_pred))  #((1-pt)^gamma)log(pt)\n",
        "    b = tf.math.multiply(-1.0, class_weight)                                                          #-alpha\n",
        "    b = tf.math.multiply(b,a)    \n",
        "    b = tf.math.multiply(b, y_true)\n",
        "    return b\n",
        "class WeightedLoss(tf.keras.losses.Loss):\n",
        "    def __init__(self, gamma, class_weight=np.ones(shape=NUM_CLASSES, dtype=np.float32)):\n",
        "        super().__init__()\n",
        "        self.gamma = tf.convert_to_tensor(gamma)\n",
        "        self.class_weight = tf.convert_to_tensor(class_weight, dtype=tf.float32)\n",
        "    def call(self, y_true, y_pred):\n",
        "        return weightedloss(y_true, y_pred, self.gamma, self.class_weight)"
      ]
    },
    {
      "cell_type": "code",
      "execution_count": null,
      "metadata": {
        "id": "fHRlWtV83IeV"
      },
      "outputs": [],
      "source": [
        "Learning_Rate = 1e-5\n",
        "\n",
        "#tf.keras.optimizers.Adam(learning_rate=Learning_Rate)     #OR tf.keras.optimizers.SGD(learning_rate=Learning_Rate, momentum=0.9)\n",
        "opt = tf.keras.optimizers.Adam(learning_rate=Learning_Rate)"
      ]
    },
    {
      "cell_type": "code",
      "execution_count": null,
      "metadata": {
        "id": "DHFaNgqtwZGz"
      },
      "outputs": [],
      "source": [
        "###EITHER\n",
        "\n",
        "#!pip install focal-loss\n",
        "#from focal_loss import SparseCategoricalFocalLoss \n",
        "#model.compile( optimizer = opt, loss = SparseCategoricalFocalLoss(gamma=2), metrics=['accuracy'] )"
      ]
    },
    {
      "cell_type": "code",
      "execution_count": null,
      "metadata": {
        "id": "nFFBTJNwLAcA"
      },
      "outputs": [],
      "source": [
        "###OR\n",
        "#model.compile( optimizer = opt, loss = loss, metrics=['accuracy'] )"
      ]
    },
    {
      "cell_type": "code",
      "execution_count": null,
      "metadata": {
        "colab": {
          "base_uri": "https://localhost:8080/",
          "height": 86
        },
        "id": "pmqZtduVbl-2",
        "outputId": "746479f4-7cd7-4c97-892f-2dbde153dbab"
      },
      "outputs": [
        {
          "data": {
            "text/plain": [
              "<tf.Tensor: shape=(1, 10), dtype=float32, numpy=\n",
              "array([[0.31036258, 0.31453058, 0.31515762, 0.31531474, 0.3157083 ,\n",
              "        0.3159449 , 0.31657755, 0.3168949 , 0.31809038, 0.32354245]],\n",
              "      dtype=float32)>"
            ]
          },
          "metadata": {},
          "output_type": "display_data"
        }
      ],
      "source": [
        "###OR\n",
        "class_wts = get_class_weights(class_hist)\n",
        "display(class_wts)\n",
        "model.compile( optimizer = opt, loss = WeightedLoss(gamma=2.0, class_weight=class_wts), metrics=['accuracy'] )"
      ]
    },
    {
      "cell_type": "code",
      "execution_count": null,
      "metadata": {
        "id": "HL7YFZKvbn92"
      },
      "outputs": [],
      "source": [
        "#model.summary()"
      ]
    },
    {
      "cell_type": "code",
      "execution_count": null,
      "metadata": {
        "colab": {
          "background_save": true,
          "base_uri": "https://localhost:8080/"
        },
        "id": "KNi4QKkp27-d",
        "outputId": "8128fdfa-3736-4f50-ed45-0c0d236dc5f7"
      },
      "outputs": [
        {
          "name": "stdout",
          "output_type": "stream",
          "text": [
            "Epoch 1/80\n",
            "625/625 [==============================] - 46s 58ms/step - loss: 105.0355 - accuracy: 0.1088 - val_loss: 94.0939 - val_accuracy: 0.1090\n",
            "Epoch 2/80\n",
            "625/625 [==============================] - 34s 55ms/step - loss: 84.7404 - accuracy: 0.1125 - val_loss: 75.9796 - val_accuracy: 0.1210\n",
            "Epoch 3/80\n",
            "625/625 [==============================] - 35s 56ms/step - loss: 68.4255 - accuracy: 0.1172 - val_loss: 61.3412 - val_accuracy: 0.1370\n",
            "Epoch 4/80\n",
            "625/625 [==============================] - 34s 54ms/step - loss: 55.2110 - accuracy: 0.1224 - val_loss: 49.4630 - val_accuracy: 0.1525\n",
            "Epoch 5/80\n",
            "625/625 [==============================] - 35s 55ms/step - loss: 44.4874 - accuracy: 0.1285 - val_loss: 39.8277 - val_accuracy: 0.1715\n",
            "Epoch 6/80\n",
            "625/625 [==============================] - 37s 59ms/step - loss: 35.8018 - accuracy: 0.1431 - val_loss: 32.0397 - val_accuracy: 0.1905\n",
            "Epoch 7/80\n",
            "625/625 [==============================] - 36s 58ms/step - loss: 28.8004 - accuracy: 0.1575 - val_loss: 25.7809 - val_accuracy: 0.2020\n",
            "Epoch 8/80\n",
            "625/625 [==============================] - 37s 59ms/step - loss: 23.1916 - accuracy: 0.1761 - val_loss: 20.7845 - val_accuracy: 0.2040\n",
            "Epoch 9/80\n",
            "625/625 [==============================] - 37s 59ms/step - loss: 18.7281 - accuracy: 0.2027 - val_loss: 16.8212 - val_accuracy: 0.2185\n",
            "Epoch 10/80\n",
            "625/625 [==============================] - 39s 62ms/step - loss: 15.1959 - accuracy: 0.2297 - val_loss: 13.6917 - val_accuracy: 0.2330\n",
            "Epoch 11/80\n",
            "625/625 [==============================] - 37s 59ms/step - loss: 12.4105 - accuracy: 0.2499 - val_loss: 11.2264 - val_accuracy: 0.2405\n",
            "Epoch 12/80\n",
            "625/625 [==============================] - 37s 59ms/step - loss: 10.2164 - accuracy: 0.2579 - val_loss: 9.2840 - val_accuracy: 0.2485\n",
            "Epoch 13/80\n",
            "625/625 [==============================] - 37s 59ms/step - loss: 8.4872 - accuracy: 0.2644 - val_loss: 7.7527 - val_accuracy: 0.2445\n",
            "Epoch 14/80\n",
            "625/625 [==============================] - 38s 61ms/step - loss: 7.1235 - accuracy: 0.2678 - val_loss: 6.5450 - val_accuracy: 0.2340\n",
            "Epoch 15/80\n",
            "625/625 [==============================] - 37s 59ms/step - loss: 6.0480 - accuracy: 0.2678 - val_loss: 5.5924 - val_accuracy: 0.2425\n",
            "Epoch 16/80\n",
            "625/625 [==============================] - 37s 59ms/step - loss: 5.1990 - accuracy: 0.2654 - val_loss: 4.8400 - val_accuracy: 0.2360\n",
            "Epoch 17/80\n",
            "625/625 [==============================] - 36s 58ms/step - loss: 4.5280 - accuracy: 0.2622 - val_loss: 4.2446 - val_accuracy: 0.2425\n",
            "Epoch 18/80\n",
            "625/625 [==============================] - 36s 58ms/step - loss: 3.9964 - accuracy: 0.2646 - val_loss: 3.7716 - val_accuracy: 0.2480\n",
            "Epoch 19/80\n",
            "625/625 [==============================] - 39s 62ms/step - loss: 3.5726 - accuracy: 0.2639 - val_loss: 3.3922 - val_accuracy: 0.2525\n",
            "Epoch 20/80\n",
            "625/625 [==============================] - 37s 59ms/step - loss: 3.2304 - accuracy: 0.2648 - val_loss: 3.0830 - val_accuracy: 0.2565\n",
            "Epoch 21/80\n",
            "625/625 [==============================] - 37s 59ms/step - loss: 2.9489 - accuracy: 0.2661 - val_loss: 2.8260 - val_accuracy: 0.2540\n",
            "Epoch 22/80\n",
            "625/625 [==============================] - 37s 59ms/step - loss: 2.7126 - accuracy: 0.2623 - val_loss: 2.6080 - val_accuracy: 0.2505\n",
            "Epoch 23/80\n",
            "625/625 [==============================] - 37s 59ms/step - loss: 2.5108 - accuracy: 0.2643 - val_loss: 2.4209 - val_accuracy: 0.2465\n",
            "Epoch 24/80\n",
            "625/625 [==============================] - 35s 57ms/step - loss: 2.3364 - accuracy: 0.2602 - val_loss: 2.2580 - val_accuracy: 0.2515\n",
            "Epoch 25/80\n",
            "625/625 [==============================] - 34s 55ms/step - loss: 2.1837 - accuracy: 0.2565 - val_loss: 2.1141 - val_accuracy: 0.2460\n",
            "Epoch 26/80\n",
            "625/625 [==============================] - 37s 59ms/step - loss: 2.0477 - accuracy: 0.2555 - val_loss: 1.9848 - val_accuracy: 0.2485\n",
            "Epoch 27/80\n",
            "625/625 [==============================] - 37s 59ms/step - loss: 1.9242 - accuracy: 0.2481 - val_loss: 1.8666 - val_accuracy: 0.2415\n",
            "Epoch 28/80\n",
            "625/625 [==============================] - 36s 57ms/step - loss: 1.8099 - accuracy: 0.2421 - val_loss: 1.7561 - val_accuracy: 0.2455\n",
            "Epoch 29/80\n",
            "625/625 [==============================] - 34s 55ms/step - loss: 1.7025 - accuracy: 0.1978 - val_loss: 1.6518 - val_accuracy: 0.1940\n",
            "Epoch 30/80\n",
            "625/625 [==============================] - 34s 55ms/step - loss: 1.6012 - accuracy: 0.1911 - val_loss: 1.5532 - val_accuracy: 0.1935\n",
            "Epoch 31/80\n",
            "625/625 [==============================] - 35s 56ms/step - loss: 1.5054 - accuracy: 0.1893 - val_loss: 1.4599 - val_accuracy: 0.1905\n",
            "Epoch 32/80\n",
            "625/625 [==============================] - 37s 59ms/step - loss: 1.4145 - accuracy: 0.1862 - val_loss: 1.3714 - val_accuracy: 0.1935\n",
            "Epoch 33/80\n",
            "625/625 [==============================] - 35s 56ms/step - loss: 1.3281 - accuracy: 0.1871 - val_loss: 1.2871 - val_accuracy: 0.1860\n",
            "Epoch 34/80\n",
            "625/625 [==============================] - 34s 54ms/step - loss: 1.2461 - accuracy: 0.1851 - val_loss: 1.2071 - val_accuracy: 0.1440\n",
            "Epoch 35/80\n",
            "625/625 [==============================] - 34s 55ms/step - loss: 1.1680 - accuracy: 0.1680 - val_loss: 1.1307 - val_accuracy: 0.1410\n",
            "Epoch 36/80\n",
            "625/625 [==============================] - 35s 56ms/step - loss: 1.0938 - accuracy: 0.1667 - val_loss: 1.0583 - val_accuracy: 0.1425\n",
            "Epoch 37/80\n",
            "625/625 [==============================] - 35s 57ms/step - loss: 1.0233 - accuracy: 0.1671 - val_loss: 0.9897 - val_accuracy: 0.1445\n",
            "Epoch 38/80\n",
            "625/625 [==============================] - 35s 56ms/step - loss: 0.9562 - accuracy: 0.1676 - val_loss: 0.9241 - val_accuracy: 0.1390\n",
            "Epoch 39/80\n",
            "625/625 [==============================] - 35s 56ms/step - loss: 0.8924 - accuracy: 0.1683 - val_loss: 0.8620 - val_accuracy: 0.1445\n",
            "Epoch 40/80\n",
            "625/625 [==============================] - 35s 57ms/step - loss: 0.8319 - accuracy: 0.1689 - val_loss: 0.8032 - val_accuracy: 0.1445\n",
            "Epoch 41/80\n",
            "625/625 [==============================] - 36s 58ms/step - loss: 0.7744 - accuracy: 0.1689 - val_loss: 0.7471 - val_accuracy: 0.1435\n",
            "Epoch 42/80\n",
            "625/625 [==============================] - 35s 57ms/step - loss: 0.7199 - accuracy: 0.1695 - val_loss: 0.6941 - val_accuracy: 0.1450\n",
            "Epoch 43/80\n",
            "625/625 [==============================] - 36s 57ms/step - loss: 0.6683 - accuracy: 0.1701 - val_loss: 0.6438 - val_accuracy: 0.1435\n",
            "Epoch 44/80\n",
            "625/625 [==============================] - 35s 56ms/step - loss: 0.6195 - accuracy: 0.1702 - val_loss: 0.5965 - val_accuracy: 0.1455\n",
            "Epoch 45/80\n",
            "625/625 [==============================] - 34s 55ms/step - loss: 0.5735 - accuracy: 0.1709 - val_loss: 0.5519 - val_accuracy: 0.1455\n",
            "Epoch 46/80\n",
            "625/625 [==============================] - 36s 58ms/step - loss: 0.5302 - accuracy: 0.1703 - val_loss: 0.5099 - val_accuracy: 0.1455\n",
            "Epoch 47/80\n",
            "625/625 [==============================] - 35s 56ms/step - loss: 0.4894 - accuracy: 0.1705 - val_loss: 0.4704 - val_accuracy: 0.1425\n",
            "Epoch 48/80\n",
            "625/625 [==============================] - 34s 55ms/step - loss: 0.4512 - accuracy: 0.1707 - val_loss: 0.4332 - val_accuracy: 0.1420\n",
            "Epoch 49/80\n",
            "625/625 [==============================] - 34s 55ms/step - loss: 0.4153 - accuracy: 0.1716 - val_loss: 0.3988 - val_accuracy: 0.1450\n",
            "Epoch 50/80\n",
            "625/625 [==============================] - 36s 58ms/step - loss: 0.3818 - accuracy: 0.1711 - val_loss: 0.3662 - val_accuracy: 0.1440\n",
            "Epoch 51/80\n",
            "625/625 [==============================] - 34s 55ms/step - loss: 0.3505 - accuracy: 0.1718 - val_loss: 0.3359 - val_accuracy: 0.1385\n",
            "Epoch 52/80\n",
            "625/625 [==============================] - 34s 54ms/step - loss: 0.3214 - accuracy: 0.1719 - val_loss: 0.3082 - val_accuracy: 0.1490\n",
            "Epoch 53/80\n",
            "625/625 [==============================] - 35s 56ms/step - loss: 0.2944 - accuracy: 0.1721 - val_loss: 0.2822 - val_accuracy: 0.1475\n",
            "Epoch 54/80\n",
            "625/625 [==============================] - 35s 56ms/step - loss: 0.2694 - accuracy: 0.1722 - val_loss: 0.2581 - val_accuracy: 0.1455\n",
            "Epoch 55/80\n",
            "625/625 [==============================] - 35s 56ms/step - loss: 0.2463 - accuracy: 0.1722 - val_loss: 0.2359 - val_accuracy: 0.1475\n",
            "Epoch 56/80\n",
            "625/625 [==============================] - 35s 56ms/step - loss: 0.2251 - accuracy: 0.1725 - val_loss: 0.2156 - val_accuracy: 0.1455\n",
            "Epoch 57/80\n",
            "625/625 [==============================] - 35s 55ms/step - loss: 0.2055 - accuracy: 0.1724 - val_loss: 0.1968 - val_accuracy: 0.1455\n",
            "Epoch 58/80\n",
            "625/625 [==============================] - 36s 57ms/step - loss: 0.1876 - accuracy: 0.1732 - val_loss: 0.1799 - val_accuracy: 0.1485\n",
            "Epoch 59/80\n",
            "625/625 [==============================] - 36s 58ms/step - loss: 0.1712 - accuracy: 0.1731 - val_loss: 0.1643 - val_accuracy: 0.1450\n",
            "Epoch 60/80\n",
            "625/625 [==============================] - 36s 57ms/step - loss: 0.1564 - accuracy: 0.1733 - val_loss: 0.1503 - val_accuracy: 0.1465\n",
            "Epoch 61/80\n",
            "625/625 [==============================] - 35s 56ms/step - loss: 0.1429 - accuracy: 0.1734 - val_loss: 0.1372 - val_accuracy: 0.1440\n",
            "Epoch 62/80\n",
            "625/625 [==============================] - 34s 55ms/step - loss: 0.1307 - accuracy: 0.1740 - val_loss: 0.1262 - val_accuracy: 0.1465\n",
            "Epoch 63/80\n",
            "625/625 [==============================] - 35s 57ms/step - loss: 0.1199 - accuracy: 0.1736 - val_loss: 0.1154 - val_accuracy: 0.1450\n",
            "Epoch 64/80\n",
            "625/625 [==============================] - 37s 59ms/step - loss: 0.1101 - accuracy: 0.1738 - val_loss: 0.1065 - val_accuracy: 0.1480\n",
            "Epoch 65/80\n",
            "625/625 [==============================] - 36s 57ms/step - loss: 0.1015 - accuracy: 0.1731 - val_loss: 0.0982 - val_accuracy: 0.1455\n",
            "Epoch 66/80\n",
            "625/625 [==============================] - 35s 57ms/step - loss: 0.0939 - accuracy: 0.1749 - val_loss: 0.0912 - val_accuracy: 0.1420\n",
            "Epoch 67/80\n",
            "625/625 [==============================] - 36s 57ms/step - loss: 0.0873 - accuracy: 0.1776 - val_loss: 0.0849 - val_accuracy: 0.1530\n",
            "Epoch 68/80\n",
            "625/625 [==============================] - 37s 59ms/step - loss: 0.0815 - accuracy: 0.1827 - val_loss: 0.0797 - val_accuracy: 0.1725\n",
            "Epoch 69/80\n",
            "625/625 [==============================] - 35s 56ms/step - loss: 0.0766 - accuracy: 0.1852 - val_loss: 0.0752 - val_accuracy: 0.1700\n",
            "Epoch 70/80\n",
            "625/625 [==============================] - 35s 57ms/step - loss: 0.0725 - accuracy: 0.1864 - val_loss: 0.0716 - val_accuracy: 0.1770\n",
            "Epoch 71/80\n",
            "625/625 [==============================] - 34s 54ms/step - loss: 0.0691 - accuracy: 0.1885 - val_loss: 0.0683 - val_accuracy: 0.1730\n",
            "Epoch 72/80\n",
            "625/625 [==============================] - 34s 55ms/step - loss: 0.0663 - accuracy: 0.1900 - val_loss: 0.0659 - val_accuracy: 0.1710\n",
            "Epoch 73/80\n",
            "625/625 [==============================] - 36s 58ms/step - loss: 0.0641 - accuracy: 0.1901 - val_loss: 0.0641 - val_accuracy: 0.1785\n",
            "Epoch 74/80\n",
            "625/625 [==============================] - 35s 55ms/step - loss: 0.0623 - accuracy: 0.1918 - val_loss: 0.0626 - val_accuracy: 0.1745\n",
            "Epoch 75/80\n",
            "625/625 [==============================] - 34s 54ms/step - loss: 0.0610 - accuracy: 0.1911 - val_loss: 0.0614 - val_accuracy: 0.1735\n",
            "Epoch 76/80\n",
            "625/625 [==============================] - 33s 52ms/step - loss: 0.0600 - accuracy: 0.1914 - val_loss: 0.0605 - val_accuracy: 0.1750\n",
            "Epoch 77/80\n",
            "625/625 [==============================] - 34s 55ms/step - loss: 0.0594 - accuracy: 0.1911 - val_loss: 0.0601 - val_accuracy: 0.1780\n",
            "Epoch 78/80\n",
            "625/625 [==============================] - 32s 52ms/step - loss: 0.0589 - accuracy: 0.1908 - val_loss: 0.0596 - val_accuracy: 0.1750\n",
            "Epoch 79/80\n",
            "625/625 [==============================] - 33s 53ms/step - loss: 0.0586 - accuracy: 0.1908 - val_loss: 0.0593 - val_accuracy: 0.1735\n",
            "Epoch 80/80\n",
            "625/625 [==============================] - 33s 52ms/step - loss: 0.0583 - accuracy: 0.1908 - val_loss: 0.0594 - val_accuracy: 0.1695\n"
          ]
        }
      ],
      "source": [
        "resized_ds_train = resized_ds_train.batch(BATCH_SIZE)\n",
        "resized_ds_val = resized_ds_val.batch(BATCH_SIZE)\n",
        "\n",
        "h = model.fit( resized_ds_train, epochs=80, validation_data = resized_ds_val)"
      ]
    },
    {
      "cell_type": "code",
      "execution_count": null,
      "metadata": {
        "colab": {
          "background_save": true
        },
        "id": "FuOyiBsTQkYL",
        "outputId": "6661e7fd-16c4-4d8d-9128-8d3f993f3623"
      },
      "outputs": [
        {
          "data": {
            "image/png": "[encoded data removed]",
            "text/plain": [
              "<Figure size 432x288 with 1 Axes>"
            ]
          },
          "metadata": {},
          "output_type": "display_data"
        }
      ],
      "source": [
        "plt.plot(h.history['loss'])\n",
        "plt.plot(h.history['val_loss'])\n",
        "plt.title('model loss')\n",
        "plt.ylabel('loss')\n",
        "plt.xlabel('epoch')\n",
        "plt.legend(['train', 'val'], loc='upper right')\n",
        "plt.show()"
      ]
    },
    {
      "cell_type": "code",
      "execution_count": null,
      "metadata": {
        "colab": {
          "background_save": true
        },
        "id": "5eodErTxg9BJ",
        "outputId": "1cee0a7b-35ca-46d7-e03d-73e09266558b"
      },
      "outputs": [
        {
          "data": {
            "image/png": "[encoded data removed]",
            "text/plain": [
              "<Figure size 432x288 with 1 Axes>"
            ]
          },
          "metadata": {},
          "output_type": "display_data"
        }
      ],
      "source": [
        "plt.plot(h.history['accuracy'])\n",
        "plt.plot(h.history['val_accuracy'])\n",
        "plt.title('model accuracy')\n",
        "plt.ylabel('accuracy')\n",
        "plt.xlabel('epoch')\n",
        "plt.legend(['train', 'val'], loc='upper left')\n",
        "plt.show()"
      ]
    },
    {
      "cell_type": "code",
      "execution_count": null,
      "metadata": {
        "colab": {
          "background_save": true
        },
        "id": "pxSSK5SPhnKL"
      },
      "outputs": [],
      "source": [
        "#Evaluation and confusion matrix creation:\n",
        "from sklearn.metrics import classification_report, confusion_matrix\n",
        "\n",
        "x_test = np.asarray(list(map(lambda x: x[0], tfds.as_numpy(resized_ds_test))))\n",
        "y_test_orig = np.asarray(list(map(lambda x: x[1], tfds.as_numpy(resized_ds_test))))"
      ]
    },
    {
      "cell_type": "code",
      "execution_count": null,
      "metadata": {
        "colab": {
          "background_save": true
        },
        "id": "Tg4EdPBuc7fW",
        "outputId": "41ae1ae9-b3af-46ff-aea2-9f72f39af70c"
      },
      "outputs": [
        {
          "name": "stdout",
          "output_type": "stream",
          "text": [
            "313/313 [==============================] - 2s 5ms/step\n"
          ]
        }
      ],
      "source": [
        "predictions = model.predict(x_test)"
      ]
    },
    {
      "cell_type": "code",
      "execution_count": null,
      "metadata": {
        "colab": {
          "background_save": true
        },
        "id": "sYYhORws1NnZ",
        "outputId": "60963b9f-2b09-47ee-db9a-c43b7073960f"
      },
      "outputs": [
        {
          "data": {
            "text/plain": [
              "(10000, 10)"
            ]
          },
          "metadata": {},
          "output_type": "display_data"
        }
      ],
      "source": [
        "if loss!='sparse_categorical_crossentropy':\n",
        "    false_arr = np.full(shape=len(class_list), fill_value = False)\n",
        "    #y_pred = np.empty(shape=y_test_orig.shape[-1])\n",
        "    i=0\n",
        "    for i, pred in enumerate(predictions):\n",
        "        temp_arr = copy.deepcopy(false_arr)\n",
        "        np.put(temp_arr, np.argmax(pred), True)\n",
        "        if i==0:\n",
        "            y_pred = copy.deepcopy(temp_arr)\n",
        "        else:\n",
        "            y_pred = np.vstack([y_pred, temp_arr])\n",
        "    display(y_pred.shape)\n",
        "else:\n",
        "    y_pred = np.argmax(predictions, axis=1)\n"
      ]
    },
    {
      "cell_type": "code",
      "execution_count": null,
      "metadata": {
        "colab": {
          "background_save": true
        },
        "id": "o-iQ19WTaE9s",
        "outputId": "33dd0bd1-0589-4c8d-e1e9-5d85deee0dd9"
      },
      "outputs": [
        {
          "data": {
            "text/plain": [
              "(10000, 10)"
            ]
          },
          "metadata": {},
          "output_type": "display_data"
        },
        {
          "data": {
            "text/plain": [
              "(10000, 10)"
            ]
          },
          "metadata": {},
          "output_type": "display_data"
        }
      ],
      "source": [
        "display(y_test_orig.shape)\n",
        "display(y_pred.shape)"
      ]
    },
    {
      "cell_type": "code",
      "execution_count": null,
      "metadata": {
        "colab": {
          "background_save": true
        },
        "id": "phcwIL8RJQNQ",
        "outputId": "dc669df1-e3fd-460d-d284-750289a96161"
      },
      "outputs": [
        {
          "name": "stdout",
          "output_type": "stream",
          "text": [
            "Confusion Matrix\n"
          ]
        },
        {
          "data": {
            "text/plain": [
              "array([[  0,   0,  20,  28,  11,   0,   0,   0, 941,   0],\n",
              "       [  0,   0, 495, 176,  27,   0,   0,   0, 302,   0],\n",
              "       [  0,   0, 559, 214,  23,   0,   0,   0, 204,   0],\n",
              "       [  0,   0, 250, 190,  43,   0,   0,   0, 517,   0],\n",
              "       [  0,   0, 359, 165,  35,   0,   0,   0, 441,   0],\n",
              "       [  0,   0, 242, 190,  50,   0,   0,   0, 518,   0],\n",
              "       [  0,   0,   2,  13,   7,   0,   0,   0, 978,   0],\n",
              "       [  0,   0, 296, 166,  45,   0,   0,   0, 493,   0],\n",
              "       [  0,   0,  14,  23,  10,   0,   0,   0, 953,   0],\n",
              "       [  0,   0,  17,  40,  11,   0,   0,   0, 932,   0]])"
            ]
          },
          "metadata": {},
          "output_type": "display_data"
        },
        {
          "name": "stdout",
          "output_type": "stream",
          "text": [
            "Classification Report\n",
            "              precision    recall  f1-score   support\n",
            "\n",
            "    airplane       0.00      0.00      0.00      1000\n",
            "        deer       0.00      0.00      0.00      1000\n",
            "        frog       0.25      0.56      0.34      1000\n",
            "         dog       0.16      0.19      0.17      1000\n",
            "        bird       0.13      0.04      0.06      1000\n",
            "       horse       0.00      0.00      0.00      1000\n",
            "  automobile       0.00      0.00      0.00      1000\n",
            "         cat       0.00      0.00      0.00      1000\n",
            "        ship       0.15      0.95      0.26      1000\n",
            "       truck       0.00      0.00      0.00      1000\n",
            "\n",
            "   micro avg       0.17      0.17      0.17     10000\n",
            "   macro avg       0.07      0.17      0.08     10000\n",
            "weighted avg       0.07      0.17      0.08     10000\n",
            " samples avg       0.17      0.17      0.17     10000\n",
            "\n"
          ]
        },
        {
          "name": "stderr",
          "output_type": "stream",
          "text": [
            "/usr/local/lib/python3.8/dist-packages/sklearn/metrics/_classification.py:1344: UndefinedMetricWarning: Precision and F-score are ill-defined and being set to 0.0 in labels with no predicted samples. Use `zero_division` parameter to control this behavior.\n",
            "  _warn_prf(average, modifier, msg_start, len(result))\n"
          ]
        }
      ],
      "source": [
        "print('Confusion Matrix')\n",
        "if loss != 'sparse_categorical_crossentropy':\n",
        "    matrix = confusion_matrix(y_test_orig.argmax(axis=1), y_pred.argmax(axis=1))\n",
        "else:\n",
        "    matrix = confusion_matrix(y_test_orig, y_pred)\n",
        "display(matrix)\n",
        "\n",
        "# Print Classification Report\n",
        "print('Classification Report')\n",
        "print(classification_report(y_test_orig, y_pred, target_names=class_names))"
      ]
    },
    {
      "cell_type": "code",
      "execution_count": null,
      "metadata": {
        "colab": {
          "background_save": true
        },
        "id": "7NaFdDuTQoyT"
      },
      "outputs": [],
      "source": [
        "def ret_as_numpy():\n",
        "    #test = tfds.load(DataSet, split='test', as_supervised=True)\n",
        "    #test = prepare(test)\n",
        "    #test = tfds.as_numpy(test)\n",
        "    return tfds.as_numpy(resized_ds_test)"
      ]
    },
    {
      "cell_type": "code",
      "execution_count": null,
      "metadata": {
        "colab": {
          "background_save": true
        },
        "id": "Si_MguzMQuZL"
      },
      "outputs": [],
      "source": [
        "test_as_np = ret_as_numpy()"
      ]
    },
    {
      "cell_type": "code",
      "execution_count": null,
      "metadata": {
        "colab": {
          "background_save": true
        },
        "id": "xWYWlODgQrFy"
      },
      "outputs": [],
      "source": [
        "def evaluate_float_model(model, test):\n",
        "    test_labels = []\n",
        "    \n",
        "    # Run predictions on every image in the \"test\" dataset.\n",
        "    prediction_digits = []\n",
        "    for i, test_example in enumerate(test):\n",
        "        test_labels.append(np.argmax(test_example[-1]))\n",
        "        test_image = test_example[0]\n",
        "        # Pre-processing: add batch dimension and convert to float32 to match with\n",
        "        # the model's input data format.\n",
        "        #display(test_image.shape)\n",
        "        test_image = np.expand_dims(test_image, axis=0).astype(np.float32)\n",
        "        \n",
        "        # Run inference.\n",
        "        output = model(test_image, training=False)\n",
        "        # Post-processing: remove batch dimension and find the digit with highest\n",
        "        # probability.\n",
        "        output = output.numpy()\n",
        "        digit = np.argmax(output[0])\n",
        "        prediction_digits.append(digit)\n",
        "        \n",
        "    print('\\n')\n",
        "    # Compare prediction results with ground truth labels to calculate accuracy.\n",
        "    prediction_digits = np.array(prediction_digits)\n",
        "    accuracy = (prediction_digits == test_labels).mean()\n",
        "    return accuracy"
      ]
    },
    {
      "cell_type": "code",
      "execution_count": null,
      "metadata": {
        "colab": {
          "background_save": true
        },
        "id": "BOHIU_J3QxE7",
        "outputId": "fd9284b3-2228-40ee-a175-3d1b6f7ba28b"
      },
      "outputs": [
        {
          "name": "stdout",
          "output_type": "stream",
          "text": [
            "\n",
            "\n",
            "Float test_accuracy: 0.1737\n"
          ]
        }
      ],
      "source": [
        "test_accuracy_Float = evaluate_float_model(model, test_as_np)\n",
        "\n",
        "print('Float test_accuracy:', test_accuracy_Float)"
      ]
    },
    {
      "cell_type": "markdown",
      "metadata": {
        "id": "g_Q2Is9IY-Oo"
      },
      "source": [
        "Float checkpoint"
      ]
    },
    {
      "cell_type": "code",
      "execution_count": null,
      "metadata": {
        "id": "5i9kUxj-4wNG"
      },
      "outputs": [],
      "source": [
        "! pip install -q tensorflow-model-optimization\n",
        "import tensorflow_model_optimization as tfmot\n",
        "\n",
        "#To make the whole model aware of quantization,\n",
        "quantize_model = tfmot.quantization.keras.quantize_model"
      ]
    },
    {
      "cell_type": "code",
      "execution_count": null,
      "metadata": {
        "id": "yWycqRCE4yBu"
      },
      "outputs": [],
      "source": [
        "q_aware_model = quantize_model(model)\n",
        "#TODO: Check why this is not possible with Adam\n",
        "opt = tf.keras.optimizers.SGD(learning_rate=Learning_Rate, momentum=0.9)\n",
        "q_aware_model.compile(optimizer = opt, loss = 'categorical_crossentropy', metrics=['accuracy'])\n",
        "q_aware_model.summary()"
      ]
    },
    {
      "cell_type": "code",
      "execution_count": null,
      "metadata": {
        "id": "blO0aYaP44O8"
      },
      "outputs": [],
      "source": [
        "h = q_aware_model.fit(resized_ds_train, epochs=5, validation_data = resized_ds_val)"
      ]
    },
    {
      "cell_type": "code",
      "execution_count": null,
      "metadata": {
        "id": "WButHzSy5BTH"
      },
      "outputs": [],
      "source": [
        "plt.plot(h.history['loss'])\n",
        "plt.plot(h.history['val_loss'])\n",
        "plt.title('model loss')\n",
        "plt.ylabel('loss')\n",
        "plt.xlabel('epoch')\n",
        "plt.legend(['train', 'val'], loc='upper left')\n",
        "plt.show()"
      ]
    },
    {
      "cell_type": "code",
      "execution_count": null,
      "metadata": {
        "id": "GbugbXtI5Ecm"
      },
      "outputs": [],
      "source": [
        "converter = tf.lite.TFLiteConverter.from_keras_model(q_aware_model)\n",
        "converter.optimizations = [tf.lite.Optimize.DEFAULT]\n",
        "\n",
        "quantized_tflite_model = converter.convert()"
      ]
    },
    {
      "cell_type": "code",
      "execution_count": null,
      "metadata": {
        "id": "iXBCHsjF5JiG"
      },
      "outputs": [],
      "source": [
        "def evaluate_model(interpreter, test):\n",
        "    test_labels = []\n",
        "\n",
        "\n",
        "    input_index = interpreter.get_input_details()[0][\"index\"]\n",
        "    output_index = interpreter.get_output_details()[0][\"index\"]\n",
        "    \n",
        "    # Run predictions on every image in the \"test\" dataset.\n",
        "    prediction_digits = []\n",
        "    for i, test_example in enumerate(test):\n",
        "        test_labels.append(np.argmax(test_example[-1]))\n",
        "        test_image = test_example[0]\n",
        "        # Pre-processing: add batch dimension and convert to float32 to match with\n",
        "        # the model's input data format.\n",
        "        test_image = np.expand_dims(test_image, axis=0).astype(np.float32)\n",
        "        interpreter.set_tensor(input_index, test_image)\n",
        "        \n",
        "        # Run inference.\n",
        "        interpreter.invoke()\n",
        "        \n",
        "        # Post-processing: remove batch dimension and find the digit with highest\n",
        "        # probability.\n",
        "        output = interpreter.tensor(output_index)\n",
        "        digit = np.argmax(output()[0])\n",
        "        prediction_digits.append(digit)\n",
        "        \n",
        "    print('\\n')\n",
        "    # Compare prediction results with ground truth labels to calculate accuracy.\n",
        "    prediction_digits = np.array(prediction_digits)\n",
        "    accuracy = (prediction_digits == test_labels).mean()\n",
        "    return accuracy"
      ]
    },
    {
      "cell_type": "code",
      "execution_count": null,
      "metadata": {
        "id": "rWyXRobN5NU_"
      },
      "outputs": [],
      "source": [
        "#Models obtained from TfLiteConverter can be run in Python with Interpreter.\n",
        "interpreter = tf.lite.Interpreter(model_content=quantized_tflite_model)\n",
        "#Since TensorFlow Lite pre-plans tensor allocations to optimize inference, the user needs to call allocate_tensors() before any inference.\n",
        "interpreter.allocate_tensors()\n",
        "\n",
        "test_accuracy = evaluate_model(interpreter, test_as_np)\n",
        "\n",
        "print('Quant TFLite test_accuracy:', test_accuracy)\n",
        "#print('Quant TF test accuracy:', q_aware_model_accuracy)"
      ]
    },
    {
      "cell_type": "code",
      "execution_count": null,
      "metadata": {
        "id": "KxEHJlru5PlG"
      },
      "outputs": [],
      "source": [
        "MODEL_DIR = \"CadenceNet_Float\"\n",
        "model.save(MODEL_DIR, save_format=\"tf\")"
      ]
    },
    {
      "cell_type": "code",
      "execution_count": null,
      "metadata": {
        "id": "VHzmQxaT5R3W"
      },
      "outputs": [],
      "source": [
        "!pip install -U tf2onnx==1.8.4\n",
        "!python -m tf2onnx.convert --saved-model /content/CadenceNet_Float/ --output /content/CadenceNetOriginal_Float.onnx"
      ]
    },
    {
      "cell_type": "code",
      "execution_count": null,
      "metadata": {
        "id": "-UgJyPkX5UKe"
      },
      "outputs": [],
      "source": [
        "quant_file = \"/content/CadenceNetOriginal_QAT.tflite\"\n",
        "open(quant_file, \"wb\").write(quantized_tflite_model)"
      ]
    },
    {
      "cell_type": "code",
      "execution_count": null,
      "metadata": {
        "id": "T5iITOiiRP0M"
      },
      "outputs": [],
      "source": [
        "\n",
        "print(\"Float model in Mb: \", os.path.getsize(\"/content/CadenceNetOriginal_Float.onnx\") / float(2**20))\n",
        "print(\"Quantized model in Mb: \", os.path.getsize(quant_file) / float(2**20))\n",
        "print(\"Float Model Accuracy: \", test_accuracy_Float)\n",
        "print(\"Quantized Model Accuracy: \", test_accuracy)"
      ]
    },
    {
      "cell_type": "code",
      "execution_count": null,
      "metadata": {
        "id": "xh_ERgvr1BNy"
      },
      "outputs": [],
      "source": []
    }
  ],
  "metadata": {
    "accelerator": "GPU",
    "colab": {
      "provenance": [],
      "include_colab_link": true
    },
    "gpuClass": "standard",
    "kernelspec": {
      "display_name": "Python 3",
      "name": "python3"
    },
    "language_info": {
      "name": "python"
    }
  },
  "nbformat": 4,
  "nbformat_minor": 0
}