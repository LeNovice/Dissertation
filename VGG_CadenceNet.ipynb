{
  "cells": [
    {
      "cell_type": "markdown",
      "metadata": {
        "id": "view-in-github",
        "colab_type": "text"
      },
      "source": [
        "<a href=\"https://colab.research.google.com/github/LeNovice/Dissertation/blob/main/VGG_CadenceNet.ipynb\" target=\"_parent\"><img src=\"https://colab.research.google.com/assets/colab-badge.svg\" alt=\"Open In Colab\"/></a>"
      ]
    },
    {
      "cell_type": "code",
      "execution_count": 1,
      "metadata": {
        "id": "BCeppY1fBRsz"
      },
      "outputs": [],
      "source": [
        "USE_ORIGINAL = 0\n",
        "loss = 'categorical_crossentropy'"
      ]
    },
    {
      "cell_type": "code",
      "execution_count": 2,
      "metadata": {
        "id": "IYvbodAaO5NT"
      },
      "outputs": [],
      "source": [
        "import tensorflow_datasets as tfds\n",
        "import numpy as np\n",
        "#For plotting the dataset\n",
        "import matplotlib.pyplot as plt\n",
        "from keras.preprocessing.image import ImageDataGenerator\n",
        "#Data pipeline preparation\n",
        "import tensorflow as tf\n",
        "from tensorflow.keras import layers\n",
        "#model building\n",
        "from tensorflow.keras import models\n",
        "import tensorflow.keras.utils as tfutils\n",
        "import os\n",
        "import copy"
      ]
    },
    {
      "cell_type": "code",
      "execution_count": 3,
      "metadata": {
        "id": "bJSJfW_tPA88"
      },
      "outputs": [],
      "source": [
        "NUM_CLASSES = 10\n",
        "\n",
        "DataSet = 'caltech101'\n",
        "#'caltech101'\n",
        "#'cifar10'\n",
        "def num_samples_per_class(ds_train, get_top_10 = False, print_all = False):\n",
        "    vals = np.unique(np.fromiter(ds_train.map(lambda x, y: y), int), return_counts=True)\n",
        "    class_list = []\n",
        "    class_hist = []\n",
        "    for val,count in zip(*vals):\n",
        "        if print_all==True:\n",
        "            print(int(val), count)\n",
        "        class_hist.append((val,count))\n",
        "    if get_top_10 == True:\n",
        "        sorted_tuple = sorted(class_hist, key=lambda t: t[-1], reverse=True)[:(NUM_CLASSES + 1)]    #+1 because we are going to remove \"backround_google\" i.e. 4\n",
        "        class_list = [x for x,y in sorted_tuple]\n",
        "    return class_list\n",
        "\n",
        "def filter_fn(x, allowed_classes:list):\n",
        "    allowed_classes = tf.constant(allowed_classes)\n",
        "    isallowed = tf.equal(allowed_classes, tf.cast(x, allowed_classes.dtype))\n",
        "    reduced_sum = tf.reduce_sum(tf.cast(isallowed, tf.float32))\n",
        "    return tf.greater(reduced_sum, tf.constant(0.))"
      ]
    },
    {
      "cell_type": "code",
      "execution_count": 4,
      "metadata": {
        "id": "2fLIbNS2PDZ1"
      },
      "outputs": [],
      "source": [
        "if DataSet == 'caltech101':\n",
        "    ds_train, train_info = tfds.load(DataSet, split='test[0:90%]', as_supervised=True, with_info = True)\n",
        "    ds_test = tfds.load(DataSet, split='train', as_supervised=True)\n",
        "    ds_val = tfds.load(DataSet, split='test[90%:]', as_supervised=True) \n",
        "else:\n",
        "    ds_train, train_info = tfds.load(DataSet, split='train[0:80%]', as_supervised=True, with_info = True)   #taking 0 to 80% for training\n",
        "    ds_test = tfds.load(DataSet, split='test', as_supervised=True)        \n",
        "    ds_val = tfds.load(DataSet, split='test[80%:]', as_supervised=True)                                     #taking data from 80% point to the end of the dataset (100%) for validation\n"
      ]
    },
    {
      "cell_type": "code",
      "execution_count": 5,
      "metadata": {
        "id": "QOoGq7JtPGn8",
        "colab": {
          "base_uri": "https://localhost:8080/"
        },
        "outputId": "4608d382-2ee8-4000-d0d5-481c400dd9cf"
      },
      "outputs": [
        {
          "output_type": "stream",
          "name": "stderr",
          "text": [
            "WARNING:tensorflow:From /usr/local/lib/python3.8/dist-packages/tensorflow/python/autograph/pyct/static_analysis/liveness.py:83: Analyzer.lamba_check (from tensorflow.python.autograph.pyct.static_analysis.liveness) is deprecated and will be removed after 2023-09-23.\n",
            "Instructions for updating:\n",
            "Lambda fuctions will be no more assumed to be used in the statement where they are used, or at least in the same block. https://github.com/tensorflow/tensorflow/issues/56089\n"
          ]
        }
      ],
      "source": [
        "class_list = num_samples_per_class(ds_train, get_top_10=True)\n",
        "if DataSet == 'caltech101':\n",
        "  class_list = [i for i in class_list if i != train_info.features['label'].str2int('background_google')]\n",
        "  class_list.sort()\n",
        "class_names = [train_info.features['label'].int2str(i) for i in class_list]"
      ]
    },
    {
      "cell_type": "code",
      "execution_count": 6,
      "metadata": {
        "id": "VeThcLypHU4m"
      },
      "outputs": [],
      "source": [
        "resized_ds_train = ds_train.filter(lambda x, y: filter_fn(y, class_list)) # as_supervised\n",
        "resized_ds_test = ds_test.filter(lambda x, y: filter_fn(y, class_list))\n",
        "resized_ds_val = ds_val.filter(lambda x, y: filter_fn(y, class_list))"
      ]
    },
    {
      "cell_type": "code",
      "execution_count": 7,
      "metadata": {
        "id": "QdPKLGVdPNrk"
      },
      "outputs": [],
      "source": [
        "#Hyperparameters\n",
        "if DataSet=='caltech101':\n",
        "    IMG_SIZE = 60\n",
        "elif DataSet=='cifar10':\n",
        "    IMG_SIZE = 32\n",
        "NUM_CHANNELS = 3\n",
        "BATCH_SIZE=128\n",
        "\n",
        "input_shape = (IMG_SIZE,IMG_SIZE,NUM_CHANNELS)\n",
        "#Relabelling to avoid issues. Note that human readability is reduced by this\n",
        "table = tf.lookup.StaticHashTable(\n",
        "    initializer=tf.lookup.KeyValueTensorInitializer(\n",
        "        keys=tf.constant(class_list, dtype=tf.int64),\n",
        "        values=tf.constant([0, 1, 2, 3, 4, 5, 6, 7, 8, 9],  dtype=tf.int64)\n",
        "    ),\n",
        "    default_value= tf.constant(0,  dtype=tf.int64)\n",
        ")\n",
        "\n",
        "#This function will be used in the graph execution hence @tf.function prefix\n",
        "@tf.function\n",
        "def map_func(label):\n",
        "    global class_list\n",
        "    global loss\n",
        "    mapped_label = table.lookup(label)\n",
        "    if loss != 'sparse_categorical_crossentropy':\n",
        "        mapped_label = tf.one_hot(indices=mapped_label, depth=NUM_CLASSES)\n",
        "    print(\"Label = \" + str(label) + \"\\t\" + \"Mapped Label = \" + str(mapped_label))\n",
        "    return mapped_label\n",
        "\n",
        "#Preprocessing done as part of the graph\n",
        "resize_and_rescale = tf.keras.Sequential([\n",
        "  layers.Resizing(IMG_SIZE, IMG_SIZE),\n",
        "  layers.Rescaling(1./255)\n",
        "])\n",
        "\n",
        "resize_layer = tf.keras.Sequential([\n",
        "  layers.Resizing(IMG_SIZE, IMG_SIZE),\n",
        "])\n",
        "\n",
        "data_augmentation = tf.keras.Sequential([\n",
        "  layers.RandomFlip(\"horizontal_and_vertical\"),\n",
        "  layers.RandomRotation(0.2),\n",
        "])\n",
        "\n",
        "buffer_size = 30*NUM_CLASSES\n",
        "\n",
        "#Preprocessing function which invokes above graphs\n",
        "def prepare(ds, shuffle=False, augment=False, resize_only = False):\n",
        "    global buffer_size\n",
        "    global BATCH_SIZE\n",
        "    \n",
        "\n",
        "    # Resize and rescale all datasets.\n",
        "    if resize_only==True:\n",
        "        ds = ds.map(lambda x, y: (resize_layer(x), map_func(y)), num_parallel_calls=tf.data.AUTOTUNE)\n",
        "    else:\n",
        "        ds = ds.map(lambda x, y: (resize_and_rescale(x), map_func(y)), num_parallel_calls=tf.data.AUTOTUNE)\n",
        "    \n",
        "    if shuffle:\n",
        "        ds = ds.shuffle(buffer_size)\n",
        "        \n",
        "    # Batch all datasets.\n",
        "    #ds = ds.batch(BATCH_SIZE)\n",
        "\n",
        "    # Use data augmentation only on the training set.\n",
        "    if augment:\n",
        "        ds_aug = ds.map(lambda x, y: (data_augmentation(x, training=True), y), num_parallel_calls=tf.data.AUTOTUNE)\n",
        "        ds = ds.concatenate(ds_aug)\n",
        "\n",
        "        \n",
        "    # Use buffered prefetching on all datasets.\n",
        "    return ds.prefetch(buffer_size=tf.data.AUTOTUNE)"
      ]
    },
    {
      "cell_type": "code",
      "execution_count": 8,
      "metadata": {
        "colab": {
          "base_uri": "https://localhost:8080/"
        },
        "id": "LmLFCHD6PgLw",
        "outputId": "f5e130a9-1250-4953-a3bd-a911b28b28f2"
      },
      "outputs": [
        {
          "output_type": "stream",
          "name": "stdout",
          "text": [
            "Label = Tensor(\"label:0\", shape=(), dtype=int64)\tMapped Label = Tensor(\"one_hot:0\", shape=(10,), dtype=float32)\n"
          ]
        }
      ],
      "source": [
        "resized_ds_train = prepare(resized_ds_train, augment=True)\n",
        "resized_ds_test = prepare(resized_ds_test)\n",
        "resized_ds_val = prepare(resized_ds_val)"
      ]
    },
    {
      "cell_type": "code",
      "execution_count": 9,
      "metadata": {
        "id": "uf1KScmu9odE"
      },
      "outputs": [],
      "source": [
        "def num_samples_per_class_onehot(resized_ds_train, print_all=False):\n",
        "    if loss != 'sparse_categorical_crossentropy':\n",
        "        vals = np.unique(np.fromiter(resized_ds_train.map(lambda x, y: tf.argmax(y)), int), return_counts=True)\n",
        "    else:\n",
        "        vals = np.unique(np.fromiter(resized_ds_train.map(lambda x, y: y), int), return_counts=True)\n",
        "    class_list = []\n",
        "    class_hist = []\n",
        "    for val,count in zip(*vals):\n",
        "        if print_all==True:\n",
        "            print(int(val), count)\n",
        "        class_hist.append((val,count))\n",
        "    class_hist.sort()\n",
        "    return class_hist\n",
        "#Post prepare function, all the labels will be converted to one hot encoders. In order to get class-wise distribution, we will need to convert each one hot encoder into its label (temporarily)\n",
        "#We need a new function to handle it\n",
        "class_hist = num_samples_per_class_onehot(resized_ds_train)\n"
      ]
    },
    {
      "cell_type": "code",
      "execution_count": 10,
      "metadata": {
        "colab": {
          "base_uri": "https://localhost:8080/",
          "height": 35
        },
        "id": "ftnZ5OyvQB98",
        "outputId": "79b0f1cc-3056-468a-8a2d-3cc1f6e77759"
      },
      "outputs": [
        {
          "output_type": "display_data",
          "data": {
            "text/plain": [
              "'Quantization scheme experiments'"
            ],
            "application/vnd.google.colaboratory.intrinsic+json": {
              "type": "string"
            }
          },
          "metadata": {}
        }
      ],
      "source": [
        "#reg = tf.keras.regularizers.L2(0.01)\n",
        "reg = tf.keras.regularizers.L1L2(l1 =0.0, l2 = 0.1)\n",
        "#reg = tf.keras.regularizers.L1L2(l1 =0.0, l2 = 0.0)\n",
        "#beta_regularizer = 0.1\n",
        "#gamma_regularizer = 0.1\n",
        "\n",
        "model = models.Sequential()\n",
        "kernel_size = (3,3)\n",
        "pool_size = (2,2)\n",
        "if USE_ORIGINAL == 1:\n",
        "\tdisplay(\"Default quantization scheme\")\n",
        "\t\n",
        "\tmodel.add(layers.Conv2D(32, kernel_size, kernel_initializer='he_uniform', kernel_regularizer = reg, padding='same', input_shape=(IMG_SIZE, IMG_SIZE, NUM_CHANNELS)))\n",
        "\tmodel.add(layers.BatchNormalization())\n",
        "\tmodel.add(layers.ReLU())\n",
        "\tmodel.add(layers.Conv2D(32, kernel_size, kernel_initializer='he_uniform', kernel_regularizer = reg, padding='same'))\n",
        "\tmodel.add(layers.BatchNormalization())\n",
        "\tmodel.add(layers.ReLU())\n",
        "\tmodel.add(layers.MaxPooling2D(pool_size))\n",
        "\tmodel.add(layers.Dropout(0.1))\n",
        "\t\n",
        "\tmodel.add(layers.Conv2D(64, kernel_size, kernel_initializer='he_uniform', kernel_regularizer = reg, padding='same'))\n",
        "\tmodel.add(layers.BatchNormalization())\n",
        "\tmodel.add(layers.ReLU())\n",
        "\tmodel.add(layers.Conv2D(64, kernel_size, kernel_initializer='he_uniform', kernel_regularizer = reg, padding='same'))\n",
        "\tmodel.add(layers.BatchNormalization())\n",
        "\tmodel.add(layers.ReLU())\n",
        "\tmodel.add(layers.MaxPooling2D(pool_size))\n",
        "\tmodel.add(layers.Dropout(0.2))\n",
        "\t\n",
        "\tmodel.add(layers.Conv2D(128, kernel_size, kernel_initializer='he_uniform', kernel_regularizer = reg, padding='same'))\n",
        "\tmodel.add(layers.BatchNormalization())\n",
        "\tmodel.add(layers.ReLU())\n",
        "\tmodel.add(layers.Conv2D(128, kernel_size, kernel_initializer='he_uniform', kernel_regularizer = reg, padding='same'))\n",
        "\tmodel.add(layers.BatchNormalization())\n",
        "\tmodel.add(layers.ReLU())\n",
        "\tmodel.add(layers.MaxPooling2D(pool_size))\n",
        "\tmodel.add(layers.Dropout(0.3))\n",
        "\t\n",
        "\tmodel.add(layers.Flatten())\n",
        "\tmodel.add(layers.Dense(128, kernel_initializer='he_uniform', kernel_regularizer = reg))\n",
        "\tif 0:\n",
        "\t\t\"\"\"\n",
        "\t\tThe converter quantizes batchnorm iff it follows a Conv2D layer. Hence we remove this BatchNorm layer (although it helps in accuracy).\n",
        "\t\tSo we trade off accuracy for smaller model size\n",
        "\t\t\"\"\"\n",
        "\t\tmodel.add(layers.BatchNormalization())\n",
        "\tmodel.add(layers.ReLU())\n",
        "\tmodel.add(layers.Dropout(0.2))\n",
        "\tmodel.add(layers.Dense(NUM_CLASSES, kernel_regularizer = reg))\n",
        "\tmodel.add(layers.Softmax())\n",
        "else:\n",
        "\tdisplay(\"Quantization scheme experiments\")\n",
        "\t\n",
        "\tmodel.add(layers.Conv2D(32, kernel_size, kernel_initializer='he_uniform', kernel_regularizer = reg, padding='same', input_shape=(IMG_SIZE, IMG_SIZE, NUM_CHANNELS)))\n",
        "\tmodel.add(layers.BatchNormalization())\n",
        "\tmodel.add(layers.ReLU())\n",
        "\tmodel.add(layers.Conv2D(32, kernel_size, kernel_initializer='he_uniform', kernel_regularizer = reg, padding='same'))\n",
        "\tmodel.add(layers.BatchNormalization())\n",
        "\tmodel.add(layers.ReLU())\n",
        "\tmodel.add(layers.MaxPooling2D(pool_size))\n",
        "\tmodel.add(layers.Dropout(0.1))\n",
        "\t\n",
        "\tmodel.add(layers.Conv2D(64, kernel_size, kernel_initializer='he_uniform', kernel_regularizer = reg, padding='same'))\n",
        "\tmodel.add(layers.BatchNormalization())\n",
        "\tmodel.add(layers.ReLU())\n",
        "\tmodel.add(layers.Conv2D(64, kernel_size, kernel_initializer='he_uniform', kernel_regularizer = reg, padding='same'))\n",
        "\tmodel.add(layers.BatchNormalization())\n",
        "\tmodel.add(layers.ReLU())\n",
        "\tmodel.add(layers.MaxPooling2D(pool_size))\n",
        "\tmodel.add(layers.Dropout(0.2))\n",
        "\t\n",
        "\tmodel.add(layers.Conv2D(128, kernel_size, kernel_initializer='he_uniform', kernel_regularizer = reg, padding='same'))\n",
        "\tmodel.add(layers.BatchNormalization())\n",
        "\tmodel.add(layers.ReLU())\n",
        "\tmodel.add(layers.Conv2D(128, kernel_size, kernel_initializer='he_uniform', kernel_regularizer = reg, padding='same'))\n",
        "\tmodel.add(layers.BatchNormalization())\n",
        "\tmodel.add(layers.ReLU())\n",
        "\tmodel.add(layers.MaxPooling2D(pool_size))\n",
        "\tmodel.add(layers.Dropout(0.3))\n",
        "\t\n",
        "\tmodel.add(layers.Flatten())\n",
        "\tmodel.add(layers.Dense(128, kernel_initializer='he_uniform', kernel_regularizer = reg))\n",
        "\tif 0:\n",
        "\t\t\"\"\"\n",
        "\t\tThe converter quantizes batchnorm iff it follows a Conv2D layer. Hence we remove this BatchNorm layer (although it helps in accuracy).\n",
        "\t\tSo we trade off accuracy for smaller model size\n",
        "\t\t\"\"\"\n",
        "\t\tmodel.add(layers.BatchNormalization())\n",
        "\tmodel.add(layers.ReLU())\n",
        "\tmodel.add(layers.Dropout(0.2))\n",
        "\tmodel.add(layers.Dense(NUM_CLASSES, kernel_regularizer = reg))\n",
        "\tmodel.add(layers.Softmax())"
      ]
    },
    {
      "cell_type": "code",
      "execution_count": 11,
      "metadata": {
        "id": "B-aANPwedhNH"
      },
      "outputs": [],
      "source": [
        "def get_class_weights(class_hist):\n",
        "    \"\"\"\n",
        "    Returns the class weights as a tf.Tensor. Class weights are inverse of the class frequencies\n",
        "    Class frequencies are the number of samples of each class which we calculate in earlier steps\n",
        "    \"\"\"\n",
        "    inv_freq = tf.convert_to_tensor([1.0/count for label, count in class_hist], dtype=tf.float32)\n",
        "    return tfutils.normalize(inv_freq)\n",
        "\n",
        "\n",
        "def weightedloss(y_true, y_pred, gamma, class_weight):\n",
        "    \"\"\"\n",
        "    We assume that all arguments coming into this function are tf.Tensors type\n",
        "    class_weights are basically alpha in focal loss paper\n",
        "    \"\"\"\n",
        "    #ones = tf.convert_to_tensor(np.ones(shape=len(y_true)))\n",
        "    a = tf.math.multiply(tf.math.pow(tf.math.subtract(1.0, y_pred), gamma), tf.math.log(y_pred))  #((1-pt)^gamma)log(pt)\n",
        "    b = tf.math.multiply(-1.0, class_weight)                                                          #-alpha\n",
        "    b = tf.math.multiply(b,a)    \n",
        "    b = tf.math.multiply(b, y_true)\n",
        "    return b\n",
        "class WeightedLoss(tf.keras.losses.Loss):\n",
        "    def __init__(self, gamma, class_weight=np.ones(shape=NUM_CLASSES, dtype=np.float32)):\n",
        "        super().__init__()\n",
        "        self.gamma = tf.convert_to_tensor(gamma)\n",
        "        self.class_weight = tf.convert_to_tensor(class_weight, dtype=tf.float32)\n",
        "    def call(self, y_true, y_pred):\n",
        "        return weightedloss(y_true, y_pred, self.gamma, self.class_weight)"
      ]
    },
    {
      "cell_type": "code",
      "execution_count": 12,
      "metadata": {
        "id": "fHRlWtV83IeV"
      },
      "outputs": [],
      "source": [
        "Learning_Rate = 1e-5\n",
        "\n",
        "#tf.keras.optimizers.Adam(learning_rate=Learning_Rate)     #OR tf.keras.optimizers.SGD(learning_rate=Learning_Rate, momentum=0.9)\n",
        "opt = tf.keras.optimizers.Adam(learning_rate=Learning_Rate)"
      ]
    },
    {
      "cell_type": "code",
      "execution_count": 13,
      "metadata": {
        "id": "DHFaNgqtwZGz"
      },
      "outputs": [],
      "source": [
        "###EITHER\n",
        "\n",
        "#!pip install focal-loss\n",
        "#from focal_loss import SparseCategoricalFocalLoss \n",
        "#model.compile( optimizer = opt, loss = SparseCategoricalFocalLoss(gamma=2), metrics=['accuracy'] )"
      ]
    },
    {
      "cell_type": "code",
      "execution_count": 14,
      "metadata": {
        "id": "nFFBTJNwLAcA"
      },
      "outputs": [],
      "source": [
        "###OR\n",
        "#model.compile( optimizer = opt, loss = loss, metrics=['accuracy'] )"
      ]
    },
    {
      "cell_type": "code",
      "execution_count": 15,
      "metadata": {
        "id": "pmqZtduVbl-2"
      },
      "outputs": [],
      "source": [
        "###OR\n",
        "#class_wts = get_class_weights(class_hist)\n",
        "#display(class_wts)\n",
        "model.compile( optimizer = opt, loss = WeightedLoss(gamma=2.0), metrics=['accuracy'] )"
      ]
    },
    {
      "cell_type": "code",
      "execution_count": 16,
      "metadata": {
        "id": "HL7YFZKvbn92"
      },
      "outputs": [],
      "source": [
        "#model.summary()"
      ]
    },
    {
      "cell_type": "code",
      "execution_count": 17,
      "metadata": {
        "id": "KNi4QKkp27-d",
        "colab": {
          "base_uri": "https://localhost:8080/"
        },
        "outputId": "806bad13-6528-4011-fd05-236bc6aee610"
      },
      "outputs": [
        {
          "output_type": "stream",
          "name": "stdout",
          "text": [
            "Epoch 1/80\n",
            "44/44 [==============================] - 15s 155ms/step - loss: 116.2315 - accuracy: 0.1596 - val_loss: 115.0745 - val_accuracy: 0.1329\n",
            "Epoch 2/80\n",
            "44/44 [==============================] - 7s 151ms/step - loss: 114.0907 - accuracy: 0.2151 - val_loss: 112.9810 - val_accuracy: 0.1794\n",
            "Epoch 3/80\n",
            "44/44 [==============================] - 6s 139ms/step - loss: 112.0087 - accuracy: 0.2446 - val_loss: 110.9307 - val_accuracy: 0.2359\n",
            "Epoch 4/80\n",
            "44/44 [==============================] - 7s 148ms/step - loss: 109.9711 - accuracy: 0.2649 - val_loss: 108.9221 - val_accuracy: 0.2824\n",
            "Epoch 5/80\n",
            "44/44 [==============================] - 8s 185ms/step - loss: 107.9766 - accuracy: 0.2984 - val_loss: 106.9529 - val_accuracy: 0.3256\n",
            "Epoch 6/80\n",
            "44/44 [==============================] - 5s 121ms/step - loss: 106.0298 - accuracy: 0.3056 - val_loss: 105.0245 - val_accuracy: 0.3688\n",
            "Epoch 7/80\n",
            "44/44 [==============================] - 6s 143ms/step - loss: 104.1252 - accuracy: 0.3218 - val_loss: 103.1367 - val_accuracy: 0.4219\n",
            "Epoch 8/80\n",
            "44/44 [==============================] - 5s 122ms/step - loss: 102.2608 - accuracy: 0.3494 - val_loss: 101.2898 - val_accuracy: 0.4850\n",
            "Epoch 9/80\n",
            "44/44 [==============================] - 7s 154ms/step - loss: 100.4374 - accuracy: 0.3564 - val_loss: 99.4834 - val_accuracy: 0.5681\n",
            "Epoch 10/80\n",
            "44/44 [==============================] - 5s 123ms/step - loss: 98.6570 - accuracy: 0.3659 - val_loss: 97.7206 - val_accuracy: 0.5814\n",
            "Epoch 11/80\n",
            "44/44 [==============================] - 5s 122ms/step - loss: 96.9140 - accuracy: 0.3825 - val_loss: 95.9951 - val_accuracy: 0.6113\n",
            "Epoch 12/80\n",
            "44/44 [==============================] - 6s 134ms/step - loss: 95.2094 - accuracy: 0.3947 - val_loss: 94.3089 - val_accuracy: 0.6246\n",
            "Epoch 13/80\n",
            "44/44 [==============================] - 5s 122ms/step - loss: 93.5421 - accuracy: 0.4120 - val_loss: 92.6615 - val_accuracy: 0.6412\n",
            "Epoch 14/80\n",
            "44/44 [==============================] - 7s 149ms/step - loss: 91.9125 - accuracy: 0.4219 - val_loss: 91.0494 - val_accuracy: 0.6578\n",
            "Epoch 15/80\n",
            "44/44 [==============================] - 6s 133ms/step - loss: 90.3191 - accuracy: 0.4419 - val_loss: 89.4729 - val_accuracy: 0.6611\n",
            "Epoch 16/80\n",
            "44/44 [==============================] - 5s 124ms/step - loss: 88.7575 - accuracy: 0.4541 - val_loss: 87.9318 - val_accuracy: 0.6578\n",
            "Epoch 17/80\n",
            "44/44 [==============================] - 6s 147ms/step - loss: 87.2301 - accuracy: 0.4649 - val_loss: 86.4223 - val_accuracy: 0.6877\n",
            "Epoch 18/80\n",
            "44/44 [==============================] - 5s 121ms/step - loss: 85.7390 - accuracy: 0.4692 - val_loss: 84.9464 - val_accuracy: 0.6777\n",
            "Epoch 19/80\n",
            "44/44 [==============================] - 6s 124ms/step - loss: 84.2791 - accuracy: 0.4811 - val_loss: 83.5021 - val_accuracy: 0.6910\n",
            "Epoch 20/80\n",
            "44/44 [==============================] - 6s 130ms/step - loss: 82.8477 - accuracy: 0.4894 - val_loss: 82.0894 - val_accuracy: 0.7076\n",
            "Epoch 21/80\n",
            "44/44 [==============================] - 6s 142ms/step - loss: 81.4503 - accuracy: 0.4935 - val_loss: 80.7066 - val_accuracy: 0.7143\n",
            "Epoch 22/80\n",
            "44/44 [==============================] - 5s 125ms/step - loss: 80.0796 - accuracy: 0.5151 - val_loss: 79.3528 - val_accuracy: 0.7209\n",
            "Epoch 23/80\n",
            "44/44 [==============================] - 5s 122ms/step - loss: 78.7388 - accuracy: 0.5238 - val_loss: 78.0269 - val_accuracy: 0.7243\n",
            "Epoch 24/80\n",
            "44/44 [==============================] - 5s 122ms/step - loss: 77.4263 - accuracy: 0.5432 - val_loss: 76.7302 - val_accuracy: 0.7342\n",
            "Epoch 25/80\n",
            "44/44 [==============================] - 6s 133ms/step - loss: 76.1426 - accuracy: 0.5401 - val_loss: 75.4603 - val_accuracy: 0.7342\n",
            "Epoch 26/80\n",
            "44/44 [==============================] - 5s 123ms/step - loss: 74.8835 - accuracy: 0.5445 - val_loss: 74.2167 - val_accuracy: 0.7442\n",
            "Epoch 27/80\n",
            "44/44 [==============================] - 6s 147ms/step - loss: 73.6519 - accuracy: 0.5536 - val_loss: 72.9988 - val_accuracy: 0.7475\n",
            "Epoch 28/80\n",
            "44/44 [==============================] - 5s 122ms/step - loss: 72.4468 - accuracy: 0.5567 - val_loss: 71.8066 - val_accuracy: 0.7475\n",
            "Epoch 29/80\n",
            "44/44 [==============================] - 6s 129ms/step - loss: 71.2655 - accuracy: 0.5668 - val_loss: 70.6379 - val_accuracy: 0.7442\n",
            "Epoch 30/80\n",
            "44/44 [==============================] - 5s 122ms/step - loss: 70.1086 - accuracy: 0.5668 - val_loss: 69.4939 - val_accuracy: 0.7508\n",
            "Epoch 31/80\n",
            "44/44 [==============================] - 7s 150ms/step - loss: 68.9736 - accuracy: 0.5787 - val_loss: 68.3730 - val_accuracy: 0.7674\n",
            "Epoch 32/80\n",
            "44/44 [==============================] - 5s 122ms/step - loss: 67.8642 - accuracy: 0.5873 - val_loss: 67.2744 - val_accuracy: 0.7641\n",
            "Epoch 33/80\n",
            "44/44 [==============================] - 6s 125ms/step - loss: 66.7747 - accuracy: 0.5961 - val_loss: 66.1979 - val_accuracy: 0.7708\n",
            "Epoch 34/80\n",
            "44/44 [==============================] - 7s 150ms/step - loss: 65.7088 - accuracy: 0.5963 - val_loss: 65.1431 - val_accuracy: 0.7807\n",
            "Epoch 35/80\n",
            "44/44 [==============================] - 7s 151ms/step - loss: 64.6644 - accuracy: 0.6053 - val_loss: 64.1092 - val_accuracy: 0.7774\n",
            "Epoch 36/80\n",
            "44/44 [==============================] - 5s 124ms/step - loss: 63.6390 - accuracy: 0.6145 - val_loss: 63.0958 - val_accuracy: 0.7774\n",
            "Epoch 37/80\n",
            "44/44 [==============================] - 7s 153ms/step - loss: 62.6347 - accuracy: 0.6157 - val_loss: 62.1023 - val_accuracy: 0.7841\n",
            "Epoch 38/80\n",
            "44/44 [==============================] - 5s 123ms/step - loss: 61.6495 - accuracy: 0.6326 - val_loss: 61.1283 - val_accuracy: 0.7807\n",
            "Epoch 39/80\n",
            "44/44 [==============================] - 5s 124ms/step - loss: 60.6850 - accuracy: 0.6344 - val_loss: 60.1733 - val_accuracy: 0.7874\n",
            "Epoch 40/80\n",
            "44/44 [==============================] - 6s 144ms/step - loss: 59.7381 - accuracy: 0.6375 - val_loss: 59.2366 - val_accuracy: 0.7874\n",
            "Epoch 41/80\n",
            "44/44 [==============================] - 5s 124ms/step - loss: 58.8091 - accuracy: 0.6501 - val_loss: 58.3178 - val_accuracy: 0.7940\n",
            "Epoch 42/80\n",
            "44/44 [==============================] - 5s 124ms/step - loss: 57.8983 - accuracy: 0.6661 - val_loss: 57.4167 - val_accuracy: 0.8007\n",
            "Epoch 43/80\n",
            "44/44 [==============================] - 7s 153ms/step - loss: 57.0056 - accuracy: 0.6609 - val_loss: 56.5332 - val_accuracy: 0.8040\n",
            "Epoch 44/80\n",
            "44/44 [==============================] - 6s 126ms/step - loss: 56.1301 - accuracy: 0.6641 - val_loss: 55.6662 - val_accuracy: 0.8106\n",
            "Epoch 45/80\n",
            "44/44 [==============================] - 7s 152ms/step - loss: 55.2700 - accuracy: 0.6719 - val_loss: 54.8156 - val_accuracy: 0.8106\n",
            "Epoch 46/80\n",
            "44/44 [==============================] - 6s 148ms/step - loss: 54.4273 - accuracy: 0.6778 - val_loss: 53.9812 - val_accuracy: 0.8073\n",
            "Epoch 47/80\n",
            "44/44 [==============================] - 7s 154ms/step - loss: 53.6012 - accuracy: 0.6703 - val_loss: 53.1625 - val_accuracy: 0.8106\n",
            "Epoch 48/80\n",
            "44/44 [==============================] - 7s 152ms/step - loss: 52.7878 - accuracy: 0.6821 - val_loss: 52.3588 - val_accuracy: 0.8173\n",
            "Epoch 49/80\n",
            "44/44 [==============================] - 5s 124ms/step - loss: 51.9915 - accuracy: 0.6895 - val_loss: 51.5699 - val_accuracy: 0.8339\n",
            "Epoch 50/80\n",
            "44/44 [==============================] - 5s 124ms/step - loss: 51.2098 - accuracy: 0.6854 - val_loss: 50.7956 - val_accuracy: 0.8239\n",
            "Epoch 51/80\n",
            "44/44 [==============================] - 6s 135ms/step - loss: 50.4403 - accuracy: 0.7050 - val_loss: 50.0359 - val_accuracy: 0.8272\n",
            "Epoch 52/80\n",
            "44/44 [==============================] - 6s 132ms/step - loss: 49.6869 - accuracy: 0.7018 - val_loss: 49.2894 - val_accuracy: 0.8372\n",
            "Epoch 53/80\n",
            "44/44 [==============================] - 6s 128ms/step - loss: 48.9469 - accuracy: 0.7073 - val_loss: 48.5566 - val_accuracy: 0.8339\n",
            "Epoch 54/80\n",
            "44/44 [==============================] - 7s 155ms/step - loss: 48.2208 - accuracy: 0.7059 - val_loss: 47.8366 - val_accuracy: 0.8472\n",
            "Epoch 55/80\n",
            "44/44 [==============================] - 6s 125ms/step - loss: 47.5060 - accuracy: 0.7176 - val_loss: 47.1299 - val_accuracy: 0.8439\n",
            "Epoch 56/80\n",
            "44/44 [==============================] - 7s 153ms/step - loss: 46.8056 - accuracy: 0.7099 - val_loss: 46.4355 - val_accuracy: 0.8472\n",
            "Epoch 57/80\n",
            "44/44 [==============================] - 6s 127ms/step - loss: 46.1155 - accuracy: 0.7208 - val_loss: 45.7537 - val_accuracy: 0.8472\n",
            "Epoch 58/80\n",
            "44/44 [==============================] - 6s 125ms/step - loss: 45.4399 - accuracy: 0.7232 - val_loss: 45.0834 - val_accuracy: 0.8472\n",
            "Epoch 59/80\n",
            "44/44 [==============================] - 5s 123ms/step - loss: 44.7748 - accuracy: 0.7304 - val_loss: 44.4250 - val_accuracy: 0.8538\n",
            "Epoch 60/80\n",
            "44/44 [==============================] - 6s 140ms/step - loss: 44.1216 - accuracy: 0.7343 - val_loss: 43.7781 - val_accuracy: 0.8538\n",
            "Epoch 61/80\n",
            "44/44 [==============================] - 6s 133ms/step - loss: 43.4787 - accuracy: 0.7426 - val_loss: 43.1424 - val_accuracy: 0.8505\n",
            "Epoch 62/80\n",
            "44/44 [==============================] - 5s 122ms/step - loss: 42.8483 - accuracy: 0.7446 - val_loss: 42.5174 - val_accuracy: 0.8505\n",
            "Epoch 63/80\n",
            "44/44 [==============================] - 5s 123ms/step - loss: 42.2297 - accuracy: 0.7451 - val_loss: 41.9033 - val_accuracy: 0.8571\n",
            "Epoch 64/80\n",
            "44/44 [==============================] - 5s 121ms/step - loss: 41.6191 - accuracy: 0.7460 - val_loss: 41.2992 - val_accuracy: 0.8671\n",
            "Epoch 65/80\n",
            "44/44 [==============================] - 6s 145ms/step - loss: 41.0198 - accuracy: 0.7505 - val_loss: 40.7053 - val_accuracy: 0.8638\n",
            "Epoch 66/80\n",
            "44/44 [==============================] - 5s 122ms/step - loss: 40.4308 - accuracy: 0.7496 - val_loss: 40.1218 - val_accuracy: 0.8638\n",
            "Epoch 67/80\n",
            "44/44 [==============================] - 7s 150ms/step - loss: 39.8514 - accuracy: 0.7565 - val_loss: 39.5477 - val_accuracy: 0.8738\n",
            "Epoch 68/80\n",
            "44/44 [==============================] - 7s 152ms/step - loss: 39.2814 - accuracy: 0.7637 - val_loss: 38.9829 - val_accuracy: 0.8704\n",
            "Epoch 69/80\n",
            "44/44 [==============================] - 6s 130ms/step - loss: 38.7202 - accuracy: 0.7720 - val_loss: 38.4272 - val_accuracy: 0.8704\n",
            "Epoch 70/80\n",
            "44/44 [==============================] - 5s 124ms/step - loss: 38.1692 - accuracy: 0.7667 - val_loss: 37.8809 - val_accuracy: 0.8738\n",
            "Epoch 71/80\n",
            "44/44 [==============================] - 7s 151ms/step - loss: 37.6270 - accuracy: 0.7671 - val_loss: 37.3430 - val_accuracy: 0.8738\n",
            "Epoch 72/80\n",
            "44/44 [==============================] - 5s 125ms/step - loss: 37.0942 - accuracy: 0.7630 - val_loss: 36.8148 - val_accuracy: 0.8804\n",
            "Epoch 73/80\n",
            "44/44 [==============================] - 7s 152ms/step - loss: 36.5685 - accuracy: 0.7729 - val_loss: 36.2939 - val_accuracy: 0.8837\n",
            "Epoch 74/80\n",
            "44/44 [==============================] - 5s 124ms/step - loss: 36.0523 - accuracy: 0.7743 - val_loss: 35.7822 - val_accuracy: 0.8837\n",
            "Epoch 75/80\n",
            "44/44 [==============================] - 6s 145ms/step - loss: 35.5436 - accuracy: 0.7729 - val_loss: 35.2780 - val_accuracy: 0.8837\n",
            "Epoch 76/80\n",
            "44/44 [==============================] - 6s 125ms/step - loss: 35.0437 - accuracy: 0.7730 - val_loss: 34.7817 - val_accuracy: 0.8870\n",
            "Epoch 77/80\n",
            "44/44 [==============================] - 7s 149ms/step - loss: 34.5501 - accuracy: 0.7842 - val_loss: 34.2933 - val_accuracy: 0.8870\n",
            "Epoch 78/80\n",
            "44/44 [==============================] - 5s 124ms/step - loss: 34.0659 - accuracy: 0.7831 - val_loss: 33.8127 - val_accuracy: 0.8870\n",
            "Epoch 79/80\n",
            "44/44 [==============================] - 7s 151ms/step - loss: 33.5887 - accuracy: 0.7842 - val_loss: 33.3393 - val_accuracy: 0.8870\n",
            "Epoch 80/80\n",
            "44/44 [==============================] - 5s 121ms/step - loss: 33.1183 - accuracy: 0.7869 - val_loss: 32.8733 - val_accuracy: 0.8904\n"
          ]
        }
      ],
      "source": [
        "resized_ds_train = resized_ds_train.batch(BATCH_SIZE)\n",
        "resized_ds_val = resized_ds_val.batch(BATCH_SIZE)\n",
        "\n",
        "h = model.fit( resized_ds_train, epochs=80, validation_data = resized_ds_val)"
      ]
    },
    {
      "cell_type": "code",
      "execution_count": 18,
      "metadata": {
        "id": "FuOyiBsTQkYL",
        "colab": {
          "base_uri": "https://localhost:8080/",
          "height": 295
        },
        "outputId": "2e8b9a10-a1a5-4617-ecae-714886c2671e"
      },
      "outputs": [
        {
          "output_type": "display_data",
          "data": {
            "text/plain": [
              "<Figure size 432x288 with 1 Axes>"
            ],
            "image/png": "[encoded data removed]"
          },
          "metadata": {
            "needs_background": "light"
          }
        }
      ],
      "source": [
        "plt.plot(h.history['loss'])\n",
        "plt.plot(h.history['val_loss'])\n",
        "plt.title('model loss')\n",
        "plt.ylabel('loss')\n",
        "plt.xlabel('epoch')\n",
        "plt.legend(['train', 'val'], loc='upper right')\n",
        "plt.show()"
      ]
    },
    {
      "cell_type": "code",
      "execution_count": 19,
      "metadata": {
        "id": "5eodErTxg9BJ",
        "colab": {
          "base_uri": "https://localhost:8080/",
          "height": 295
        },
        "outputId": "d20515c1-5741-4011-c219-74e5b81fb375"
      },
      "outputs": [
        {
          "output_type": "display_data",
          "data": {
            "text/plain": [
              "<Figure size 432x288 with 1 Axes>"
            ],
            "image/png": "[encoded data removed]"
          },
          "metadata": {
            "needs_background": "light"
          }
        }
      ],
      "source": [
        "plt.plot(h.history['accuracy'])\n",
        "plt.plot(h.history['val_accuracy'])\n",
        "plt.title('model accuracy')\n",
        "plt.ylabel('accuracy')\n",
        "plt.xlabel('epoch')\n",
        "plt.legend(['train', 'val'], loc='upper left')\n",
        "plt.show()"
      ]
    },
    {
      "cell_type": "code",
      "execution_count": 20,
      "metadata": {
        "id": "pxSSK5SPhnKL"
      },
      "outputs": [],
      "source": [
        "#Evaluation and confusion matrix creation:\n",
        "from sklearn.metrics import classification_report, confusion_matrix\n",
        "\n",
        "x_test = np.asarray(list(map(lambda x: x[0], tfds.as_numpy(resized_ds_test))))\n",
        "y_test_orig = np.asarray(list(map(lambda x: x[1], tfds.as_numpy(resized_ds_test))))"
      ]
    },
    {
      "cell_type": "code",
      "execution_count": 21,
      "metadata": {
        "id": "Tg4EdPBuc7fW",
        "colab": {
          "base_uri": "https://localhost:8080/"
        },
        "outputId": "d882efb6-e625-431e-c1ba-9902a97bc001"
      },
      "outputs": [
        {
          "output_type": "stream",
          "name": "stdout",
          "text": [
            "10/10 [==============================] - 1s 17ms/step\n"
          ]
        }
      ],
      "source": [
        "predictions = model.predict(x_test)"
      ]
    },
    {
      "cell_type": "code",
      "execution_count": 22,
      "metadata": {
        "id": "sYYhORws1NnZ",
        "colab": {
          "base_uri": "https://localhost:8080/",
          "height": 34
        },
        "outputId": "7d6fc6d8-54b2-4969-b755-2bd7c6ea914b"
      },
      "outputs": [
        {
          "output_type": "display_data",
          "data": {
            "text/plain": [
              "(300, 10)"
            ]
          },
          "metadata": {}
        }
      ],
      "source": [
        "if loss!='sparse_categorical_crossentropy':\n",
        "    false_arr = np.full(shape=len(class_list), fill_value = False)\n",
        "    #y_pred = np.empty(shape=y_test_orig.shape[-1])\n",
        "    i=0\n",
        "    for i, pred in enumerate(predictions):\n",
        "        temp_arr = copy.deepcopy(false_arr)\n",
        "        np.put(temp_arr, np.argmax(pred), True)\n",
        "        if i==0:\n",
        "            y_pred = copy.deepcopy(temp_arr)\n",
        "        else:\n",
        "            y_pred = np.vstack([y_pred, temp_arr])\n",
        "    display(y_pred.shape)\n",
        "else:\n",
        "    y_pred = np.argmax(predictions, axis=1)\n"
      ]
    },
    {
      "cell_type": "code",
      "execution_count": 23,
      "metadata": {
        "id": "o-iQ19WTaE9s",
        "colab": {
          "base_uri": "https://localhost:8080/",
          "height": 52
        },
        "outputId": "692dc0c5-c1af-4fd5-fca0-427caf427187"
      },
      "outputs": [
        {
          "output_type": "display_data",
          "data": {
            "text/plain": [
              "(300, 10)"
            ]
          },
          "metadata": {}
        },
        {
          "output_type": "display_data",
          "data": {
            "text/plain": [
              "(300, 10)"
            ]
          },
          "metadata": {}
        }
      ],
      "source": [
        "display(y_test_orig.shape)\n",
        "display(y_pred.shape)"
      ]
    },
    {
      "cell_type": "code",
      "execution_count": 24,
      "metadata": {
        "id": "phcwIL8RJQNQ",
        "colab": {
          "base_uri": "https://localhost:8080/",
          "height": 538
        },
        "outputId": "44d7d796-302c-478a-9801-4de271ba5c60"
      },
      "outputs": [
        {
          "output_type": "stream",
          "name": "stdout",
          "text": [
            "Confusion Matrix\n"
          ]
        },
        {
          "output_type": "display_data",
          "data": {
            "text/plain": [
              "array([[29,  0,  0,  0,  1,  0,  0,  0,  0,  0],\n",
              "       [ 3,  5,  0,  1,  5,  0,  0,  5,  1, 10],\n",
              "       [ 6,  0, 23,  0,  1,  0,  0,  0,  0,  0],\n",
              "       [ 7,  0,  0,  5,  3,  0,  2,  2,  2,  9],\n",
              "       [ 0,  0,  0,  0, 30,  0,  0,  0,  0,  0],\n",
              "       [ 0,  0,  0,  0,  1, 29,  0,  0,  0,  0],\n",
              "       [ 5,  0,  0,  0,  7,  0, 16,  0,  1,  1],\n",
              "       [ 3,  0,  0,  0,  2,  0,  0, 25,  0,  0],\n",
              "       [ 1,  0,  0,  0,  0,  0,  0,  0, 29,  0],\n",
              "       [ 2,  0,  2,  0,  2,  0,  0,  0,  5, 19]])"
            ]
          },
          "metadata": {}
        },
        {
          "output_type": "stream",
          "name": "stdout",
          "text": [
            "Classification Report\n",
            "              precision    recall  f1-score   support\n",
            "\n",
            "   airplanes       0.52      0.97      0.67        30\n",
            "      bonsai       1.00      0.17      0.29        30\n",
            "    car_side       0.92      0.77      0.84        30\n",
            "  chandelier       0.83      0.17      0.28        30\n",
            "       faces       0.58      1.00      0.73        30\n",
            "  faces_easy       1.00      0.97      0.98        30\n",
            "       ketch       0.89      0.53      0.67        30\n",
            "    leopards       0.78      0.83      0.81        30\n",
            "  motorbikes       0.76      0.97      0.85        30\n",
            "       watch       0.49      0.63      0.55        30\n",
            "\n",
            "   micro avg       0.70      0.70      0.70       300\n",
            "   macro avg       0.78      0.70      0.67       300\n",
            "weighted avg       0.78      0.70      0.67       300\n",
            " samples avg       0.70      0.70      0.70       300\n",
            "\n"
          ]
        }
      ],
      "source": [
        "print('Confusion Matrix')\n",
        "if loss != 'sparse_categorical_crossentropy':\n",
        "    matrix = confusion_matrix(y_test_orig.argmax(axis=1), y_pred.argmax(axis=1))\n",
        "else:\n",
        "    matrix = confusion_matrix(y_test_orig, y_pred)\n",
        "display(matrix)\n",
        "\n",
        "# Print Classification Report\n",
        "print('Classification Report')\n",
        "print(classification_report(y_test_orig, y_pred, target_names=class_names))"
      ]
    },
    {
      "cell_type": "code",
      "execution_count": 25,
      "metadata": {
        "id": "7NaFdDuTQoyT"
      },
      "outputs": [],
      "source": [
        "def ret_as_numpy():\n",
        "    #test = tfds.load(DataSet, split='test', as_supervised=True)\n",
        "    #test = prepare(test)\n",
        "    #test = tfds.as_numpy(test)\n",
        "    return tfds.as_numpy(resized_ds_test)"
      ]
    },
    {
      "cell_type": "code",
      "execution_count": 26,
      "metadata": {
        "id": "Si_MguzMQuZL"
      },
      "outputs": [],
      "source": [
        "test_as_np = ret_as_numpy()"
      ]
    },
    {
      "cell_type": "code",
      "execution_count": 27,
      "metadata": {
        "id": "xWYWlODgQrFy"
      },
      "outputs": [],
      "source": [
        "def evaluate_float_model(model, test):\n",
        "    test_labels = []\n",
        "    \n",
        "    # Run predictions on every image in the \"test\" dataset.\n",
        "    prediction_digits = []\n",
        "    for i, test_example in enumerate(test):\n",
        "        test_labels.append(np.argmax(test_example[-1]))\n",
        "        test_image = test_example[0]\n",
        "        # Pre-processing: add batch dimension and convert to float32 to match with\n",
        "        # the model's input data format.\n",
        "        #display(test_image.shape)\n",
        "        test_image = np.expand_dims(test_image, axis=0).astype(np.float32)\n",
        "        \n",
        "        # Run inference.\n",
        "        output = model(test_image, training=False)\n",
        "        # Post-processing: remove batch dimension and find the digit with highest\n",
        "        # probability.\n",
        "        output = output.numpy()\n",
        "        digit = np.argmax(output[0])\n",
        "        prediction_digits.append(digit)\n",
        "        \n",
        "    print('\\n')\n",
        "    # Compare prediction results with ground truth labels to calculate accuracy.\n",
        "    prediction_digits = np.array(prediction_digits)\n",
        "    accuracy = (prediction_digits == test_labels).mean()\n",
        "    return accuracy"
      ]
    },
    {
      "cell_type": "code",
      "execution_count": 28,
      "metadata": {
        "id": "BOHIU_J3QxE7",
        "colab": {
          "base_uri": "https://localhost:8080/"
        },
        "outputId": "7691268b-30b2-4892-fae2-ddfefb668b1c"
      },
      "outputs": [
        {
          "output_type": "stream",
          "name": "stdout",
          "text": [
            "\n",
            "\n",
            "Float test_accuracy: 0.7\n"
          ]
        }
      ],
      "source": [
        "test_accuracy_Float = evaluate_float_model(model, test_as_np)\n",
        "\n",
        "print('Float test_accuracy:', test_accuracy_Float)"
      ]
    },
    {
      "cell_type": "markdown",
      "metadata": {
        "id": "g_Q2Is9IY-Oo"
      },
      "source": [
        "Float checkpoint"
      ]
    },
    {
      "cell_type": "code",
      "source": [
        "! pip install -q tensorflow-model-optimization\n",
        "import tensorflow_model_optimization as tfmot\n",
        "\n",
        "#To make the whole model aware of quantization,\n",
        "quantize_model = tfmot.quantization.keras.quantize_model"
      ],
      "metadata": {
        "id": "5i9kUxj-4wNG"
      },
      "execution_count": 29,
      "outputs": []
    },
    {
      "cell_type": "code",
      "source": [
        "q_aware_model = quantize_model(model)\n",
        "#TODO: Check why this is not possible with Adam\n",
        "opt = tf.keras.optimizers.SGD(learning_rate=Learning_Rate, momentum=0.9)\n",
        "q_aware_model.compile(optimizer = opt, loss = 'categorical_crossentropy', metrics=['accuracy'])\n",
        "q_aware_model.summary()"
      ],
      "metadata": {
        "id": "yWycqRCE4yBu",
        "colab": {
          "base_uri": "https://localhost:8080/"
        },
        "outputId": "6c02753a-59dc-411a-8f66-91216546aa7b"
      },
      "execution_count": 30,
      "outputs": [
        {
          "output_type": "stream",
          "name": "stdout",
          "text": [
            "Model: \"sequential_3\"\n",
            "_________________________________________________________________\n",
            " Layer (type)                Output Shape              Param #   \n",
            "=================================================================\n",
            " quantize_layer (QuantizeLay  (None, 60, 60, 3)        3         \n",
            " er)                                                             \n",
            "                                                                 \n",
            " quant_conv2d (QuantizeWrapp  (None, 60, 60, 32)       961       \n",
            " erV2)                                                           \n",
            "                                                                 \n",
            " quant_batch_normalization (  (None, 60, 60, 32)       129       \n",
            " QuantizeWrapperV2)                                              \n",
            "                                                                 \n",
            " quant_re_lu (QuantizeWrappe  (None, 60, 60, 32)       3         \n",
            " rV2)                                                            \n",
            "                                                                 \n",
            " quant_conv2d_1 (QuantizeWra  (None, 60, 60, 32)       9313      \n",
            " pperV2)                                                         \n",
            "                                                                 \n",
            " quant_batch_normalization_1  (None, 60, 60, 32)       129       \n",
            "  (QuantizeWrapperV2)                                            \n",
            "                                                                 \n",
            " quant_re_lu_1 (QuantizeWrap  (None, 60, 60, 32)       3         \n",
            " perV2)                                                          \n",
            "                                                                 \n",
            " quant_max_pooling2d (Quanti  (None, 30, 30, 32)       1         \n",
            " zeWrapperV2)                                                    \n",
            "                                                                 \n",
            " quant_dropout (QuantizeWrap  (None, 30, 30, 32)       1         \n",
            " perV2)                                                          \n",
            "                                                                 \n",
            " quant_conv2d_2 (QuantizeWra  (None, 30, 30, 64)       18625     \n",
            " pperV2)                                                         \n",
            "                                                                 \n",
            " quant_batch_normalization_2  (None, 30, 30, 64)       257       \n",
            "  (QuantizeWrapperV2)                                            \n",
            "                                                                 \n",
            " quant_re_lu_2 (QuantizeWrap  (None, 30, 30, 64)       3         \n",
            " perV2)                                                          \n",
            "                                                                 \n",
            " quant_conv2d_3 (QuantizeWra  (None, 30, 30, 64)       37057     \n",
            " pperV2)                                                         \n",
            "                                                                 \n",
            " quant_batch_normalization_3  (None, 30, 30, 64)       257       \n",
            "  (QuantizeWrapperV2)                                            \n",
            "                                                                 \n",
            " quant_re_lu_3 (QuantizeWrap  (None, 30, 30, 64)       3         \n",
            " perV2)                                                          \n",
            "                                                                 \n",
            " quant_max_pooling2d_1 (Quan  (None, 15, 15, 64)       1         \n",
            " tizeWrapperV2)                                                  \n",
            "                                                                 \n",
            " quant_dropout_1 (QuantizeWr  (None, 15, 15, 64)       1         \n",
            " apperV2)                                                        \n",
            "                                                                 \n",
            " quant_conv2d_4 (QuantizeWra  (None, 15, 15, 128)      74113     \n",
            " pperV2)                                                         \n",
            "                                                                 \n",
            " quant_batch_normalization_4  (None, 15, 15, 128)      513       \n",
            "  (QuantizeWrapperV2)                                            \n",
            "                                                                 \n",
            " quant_re_lu_4 (QuantizeWrap  (None, 15, 15, 128)      3         \n",
            " perV2)                                                          \n",
            "                                                                 \n",
            " quant_conv2d_5 (QuantizeWra  (None, 15, 15, 128)      147841    \n",
            " pperV2)                                                         \n",
            "                                                                 \n",
            " quant_batch_normalization_5  (None, 15, 15, 128)      513       \n",
            "  (QuantizeWrapperV2)                                            \n",
            "                                                                 \n",
            " quant_re_lu_5 (QuantizeWrap  (None, 15, 15, 128)      3         \n",
            " perV2)                                                          \n",
            "                                                                 \n",
            " quant_max_pooling2d_2 (Quan  (None, 7, 7, 128)        1         \n",
            " tizeWrapperV2)                                                  \n",
            "                                                                 \n",
            " quant_dropout_2 (QuantizeWr  (None, 7, 7, 128)        1         \n",
            " apperV2)                                                        \n",
            "                                                                 \n",
            " quant_flatten (QuantizeWrap  (None, 6272)             1         \n",
            " perV2)                                                          \n",
            "                                                                 \n",
            " quant_dense (QuantizeWrappe  (None, 128)              802945    \n",
            " rV2)                                                            \n",
            "                                                                 \n",
            " quant_re_lu_6 (QuantizeWrap  (None, 128)              3         \n",
            " perV2)                                                          \n",
            "                                                                 \n",
            " quant_dropout_3 (QuantizeWr  (None, 128)              1         \n",
            " apperV2)                                                        \n",
            "                                                                 \n",
            " quant_dense_1 (QuantizeWrap  (None, 10)               1295      \n",
            " perV2)                                                          \n",
            "                                                                 \n",
            " quant_softmax (QuantizeWrap  (None, 10)               1         \n",
            " perV2)                                                          \n",
            "                                                                 \n",
            "=================================================================\n",
            "Total params: 1,093,981\n",
            "Trainable params: 1,092,138\n",
            "Non-trainable params: 1,843\n",
            "_________________________________________________________________\n"
          ]
        }
      ]
    },
    {
      "cell_type": "code",
      "source": [
        "h = q_aware_model.fit(resized_ds_train, epochs=5, validation_data = resized_ds_val)"
      ],
      "metadata": {
        "id": "blO0aYaP44O8",
        "colab": {
          "base_uri": "https://localhost:8080/"
        },
        "outputId": "7d40d00b-96e4-4c10-9f27-52c67bf79194"
      },
      "execution_count": 31,
      "outputs": [
        {
          "output_type": "stream",
          "name": "stdout",
          "text": [
            "Epoch 1/5\n",
            "44/44 [==============================] - 13s 222ms/step - loss: 33.7223 - accuracy: 0.7853 - val_loss: 33.6529 - val_accuracy: 0.8704\n",
            "Epoch 2/5\n",
            "44/44 [==============================] - 10s 221ms/step - loss: 33.6419 - accuracy: 0.7743 - val_loss: 33.5612 - val_accuracy: 0.8804\n",
            "Epoch 3/5\n",
            "44/44 [==============================] - 8s 193ms/step - loss: 33.5741 - accuracy: 0.7754 - val_loss: 33.4770 - val_accuracy: 0.8738\n",
            "Epoch 4/5\n",
            "44/44 [==============================] - 7s 171ms/step - loss: 33.5057 - accuracy: 0.7811 - val_loss: 33.4005 - val_accuracy: 0.8738\n",
            "Epoch 5/5\n",
            "44/44 [==============================] - 6s 139ms/step - loss: 33.4317 - accuracy: 0.7835 - val_loss: 33.3248 - val_accuracy: 0.8771\n"
          ]
        }
      ]
    },
    {
      "cell_type": "code",
      "source": [
        "plt.plot(h.history['loss'])\n",
        "plt.plot(h.history['val_loss'])\n",
        "plt.title('model loss')\n",
        "plt.ylabel('loss')\n",
        "plt.xlabel('epoch')\n",
        "plt.legend(['train', 'val'], loc='upper left')\n",
        "plt.show()"
      ],
      "metadata": {
        "colab": {
          "base_uri": "https://localhost:8080/",
          "height": 295
        },
        "id": "WButHzSy5BTH",
        "outputId": "0c7dcb2f-e0b6-4cdf-944d-e20410db11ed"
      },
      "execution_count": 32,
      "outputs": [
        {
          "output_type": "display_data",
          "data": {
            "text/plain": [
              "<Figure size 432x288 with 1 Axes>"
            ],
            "image/png": "[encoded data removed]"
          },
          "metadata": {
            "needs_background": "light"
          }
        }
      ]
    },
    {
      "cell_type": "code",
      "source": [
        "converter = tf.lite.TFLiteConverter.from_keras_model(q_aware_model)\n",
        "converter.optimizations = [tf.lite.Optimize.DEFAULT]\n",
        "\n",
        "quantized_tflite_model = converter.convert()"
      ],
      "metadata": {
        "colab": {
          "base_uri": "https://localhost:8080/"
        },
        "id": "GbugbXtI5Ecm",
        "outputId": "60775860-e7bb-4eb4-e310-3bac7e5988c8"
      },
      "execution_count": 33,
      "outputs": [
        {
          "output_type": "stream",
          "name": "stderr",
          "text": [
            "WARNING:absl:Found untraced functions such as conv2d_layer_call_fn, conv2d_layer_call_and_return_conditional_losses, _jit_compiled_convolution_op, re_lu_layer_call_fn, re_lu_layer_call_and_return_conditional_losses while saving (showing 5 of 48). These functions will not be directly callable after loading.\n",
            "/usr/local/lib/python3.8/dist-packages/tensorflow/lite/python/convert.py:765: UserWarning: Statistics for quantized inputs were expected, but not specified; continuing anyway.\n",
            "  warnings.warn(\"Statistics for quantized inputs were expected, but not \"\n"
          ]
        }
      ]
    },
    {
      "cell_type": "code",
      "source": [
        "def evaluate_model(interpreter, test):\n",
        "    test_labels = []\n",
        "\n",
        "\n",
        "    input_index = interpreter.get_input_details()[0][\"index\"]\n",
        "    output_index = interpreter.get_output_details()[0][\"index\"]\n",
        "    \n",
        "    # Run predictions on every image in the \"test\" dataset.\n",
        "    prediction_digits = []\n",
        "    for i, test_example in enumerate(test):\n",
        "        test_labels.append(np.argmax(test_example[-1]))\n",
        "        test_image = test_example[0]\n",
        "        # Pre-processing: add batch dimension and convert to float32 to match with\n",
        "        # the model's input data format.\n",
        "        test_image = np.expand_dims(test_image, axis=0).astype(np.float32)\n",
        "        interpreter.set_tensor(input_index, test_image)\n",
        "        \n",
        "        # Run inference.\n",
        "        interpreter.invoke()\n",
        "        \n",
        "        # Post-processing: remove batch dimension and find the digit with highest\n",
        "        # probability.\n",
        "        output = interpreter.tensor(output_index)\n",
        "        digit = np.argmax(output()[0])\n",
        "        prediction_digits.append(digit)\n",
        "        \n",
        "    print('\\n')\n",
        "    # Compare prediction results with ground truth labels to calculate accuracy.\n",
        "    prediction_digits = np.array(prediction_digits)\n",
        "    accuracy = (prediction_digits == test_labels).mean()\n",
        "    return accuracy"
      ],
      "metadata": {
        "id": "iXBCHsjF5JiG"
      },
      "execution_count": 34,
      "outputs": []
    },
    {
      "cell_type": "code",
      "source": [
        "#Models obtained from TfLiteConverter can be run in Python with Interpreter.\n",
        "interpreter = tf.lite.Interpreter(model_content=quantized_tflite_model)\n",
        "#Since TensorFlow Lite pre-plans tensor allocations to optimize inference, the user needs to call allocate_tensors() before any inference.\n",
        "interpreter.allocate_tensors()\n",
        "\n",
        "test_accuracy = evaluate_model(interpreter, test_as_np)\n",
        "\n",
        "print('Quant TFLite test_accuracy:', test_accuracy)\n",
        "#print('Quant TF test accuracy:', q_aware_model_accuracy)"
      ],
      "metadata": {
        "colab": {
          "base_uri": "https://localhost:8080/"
        },
        "id": "rWyXRobN5NU_",
        "outputId": "3f934e5d-3fda-4537-f798-5eb7a899fd9c"
      },
      "execution_count": 35,
      "outputs": [
        {
          "output_type": "stream",
          "name": "stdout",
          "text": [
            "\n",
            "\n",
            "Quant TFLite test_accuracy: 0.68\n"
          ]
        }
      ]
    },
    {
      "cell_type": "code",
      "source": [
        "MODEL_DIR = \"CadenceNet_Float\"\n",
        "model.save(MODEL_DIR, save_format=\"tf\")"
      ],
      "metadata": {
        "colab": {
          "base_uri": "https://localhost:8080/"
        },
        "id": "KxEHJlru5PlG",
        "outputId": "b501d124-b92c-4391-da48-315c7f3c56c6"
      },
      "execution_count": 36,
      "outputs": [
        {
          "output_type": "stream",
          "name": "stderr",
          "text": [
            "WARNING:absl:Found untraced functions such as _jit_compiled_convolution_op, _jit_compiled_convolution_op, _jit_compiled_convolution_op, _jit_compiled_convolution_op, _jit_compiled_convolution_op while saving (showing 5 of 6). These functions will not be directly callable after loading.\n"
          ]
        }
      ]
    },
    {
      "cell_type": "code",
      "source": [
        "!pip install -U tf2onnx==1.8.4\n",
        "!python -m tf2onnx.convert --saved-model /content/CadenceNet_Float/ --output /content/CadenceNetOriginal_Float.onnx"
      ],
      "metadata": {
        "colab": {
          "base_uri": "https://localhost:8080/"
        },
        "id": "VHzmQxaT5R3W",
        "outputId": "8ed3a066-9f91-462c-b2bf-18e532ca18cb"
      },
      "execution_count": 37,
      "outputs": [
        {
          "output_type": "stream",
          "name": "stdout",
          "text": [
            "Looking in indexes: https://pypi.org/simple, https://us-python.pkg.dev/colab-wheels/public/simple/\n",
            "Requirement already satisfied: tf2onnx==1.8.4 in /usr/local/lib/python3.8/dist-packages (1.8.4)\n",
            "Requirement already satisfied: onnx>=1.4.1 in /usr/local/lib/python3.8/dist-packages (from tf2onnx==1.8.4) (1.13.1)\n",
            "Requirement already satisfied: numpy>=1.14.1 in /usr/local/lib/python3.8/dist-packages (from tf2onnx==1.8.4) (1.22.4)\n",
            "Requirement already satisfied: requests in /usr/local/lib/python3.8/dist-packages (from tf2onnx==1.8.4) (2.25.1)\n",
            "Requirement already satisfied: six in /usr/local/lib/python3.8/dist-packages (from tf2onnx==1.8.4) (1.15.0)\n",
            "Requirement already satisfied: flatbuffers in /usr/local/lib/python3.8/dist-packages (from tf2onnx==1.8.4) (23.1.21)\n",
            "Requirement already satisfied: protobuf<4,>=3.20.2 in /usr/local/lib/python3.8/dist-packages (from onnx>=1.4.1->tf2onnx==1.8.4) (3.20.3)\n",
            "Requirement already satisfied: typing-extensions>=3.6.2.1 in /usr/local/lib/python3.8/dist-packages (from onnx>=1.4.1->tf2onnx==1.8.4) (4.5.0)\n",
            "Requirement already satisfied: certifi>=2017.4.17 in /usr/local/lib/python3.8/dist-packages (from requests->tf2onnx==1.8.4) (2022.12.7)\n",
            "Requirement already satisfied: chardet<5,>=3.0.2 in /usr/local/lib/python3.8/dist-packages (from requests->tf2onnx==1.8.4) (4.0.0)\n",
            "Requirement already satisfied: idna<3,>=2.5 in /usr/local/lib/python3.8/dist-packages (from requests->tf2onnx==1.8.4) (2.10)\n",
            "Requirement already satisfied: urllib3<1.27,>=1.21.1 in /usr/local/lib/python3.8/dist-packages (from requests->tf2onnx==1.8.4) (1.26.14)\n",
            "2023-03-04 09:26:23.816518: W tensorflow/compiler/xla/stream_executor/platform/default/dso_loader.cc:64] Could not load dynamic library 'libnvinfer.so.7'; dlerror: libnvinfer.so.7: cannot open shared object file: No such file or directory; LD_LIBRARY_PATH: /usr/lib64-nvidia\n",
            "2023-03-04 09:26:23.816625: W tensorflow/compiler/xla/stream_executor/platform/default/dso_loader.cc:64] Could not load dynamic library 'libnvinfer_plugin.so.7'; dlerror: libnvinfer_plugin.so.7: cannot open shared object file: No such file or directory; LD_LIBRARY_PATH: /usr/lib64-nvidia\n",
            "2023-03-04 09:26:23.816650: W tensorflow/compiler/tf2tensorrt/utils/py_utils.cc:38] TF-TRT Warning: Cannot dlopen some TensorRT libraries. If you would like to use Nvidia GPU with TensorRT, please make sure the missing libraries mentioned above are installed properly.\n",
            "/usr/lib/python3.8/runpy.py:127: RuntimeWarning: 'tf2onnx.convert' found in sys.modules after import of package 'tf2onnx', but prior to execution of 'tf2onnx.convert'; this may result in unpredictable behaviour\n",
            "  warn(RuntimeWarning(msg))\n",
            "2023-03-04 09:26:25,995 - WARNING - '--tag' not specified for saved_model. Using --tag serve\n",
            "2023-03-04 09:26:27,054 - INFO - Signatures found in model: [serving_default].\n",
            "2023-03-04 09:26:27,054 - WARNING - '--signature_def' not specified, using first signature: serving_default\n",
            "2023-03-04 09:26:27,054 - INFO - Output names: ['softmax']\n",
            "WARNING:tensorflow:From /usr/local/lib/python3.8/dist-packages/tf2onnx/tf_loader.py:557: extract_sub_graph (from tensorflow.python.framework.graph_util_impl) is deprecated and will be removed in a future version.\n",
            "Instructions for updating:\n",
            "This API was designed for TensorFlow v1. See https://www.tensorflow.org/guide/migrate for instructions on how to migrate your code to TensorFlow v2.\n",
            "2023-03-04 09:26:27,259 - WARNING - From /usr/local/lib/python3.8/dist-packages/tf2onnx/tf_loader.py:557: extract_sub_graph (from tensorflow.python.framework.graph_util_impl) is deprecated and will be removed in a future version.\n",
            "Instructions for updating:\n",
            "This API was designed for TensorFlow v1. See https://www.tensorflow.org/guide/migrate for instructions on how to migrate your code to TensorFlow v2.\n",
            "2023-03-04 09:26:27,351 - INFO - Using tensorflow=2.11.0, onnx=1.13.1, tf2onnx=1.8.4/cd55bf\n",
            "2023-03-04 09:26:27,351 - INFO - Using opset <onnx, 9>\n",
            "2023-03-04 09:26:27,360 - INFO - Computed 0 values for constant folding\n",
            "2023-03-04 09:26:27,448 - INFO - Optimizing ONNX model\n",
            "2023-03-04 09:26:27,522 - INFO - After optimization: BatchNormalization -6 (6->0), Cast -1 (1->0), Const -24 (41->17), Identity -9 (9->0), Transpose -28 (30->2)\n",
            "2023-03-04 09:26:27,530 - INFO - \n",
            "2023-03-04 09:26:27,530 - INFO - Successfully converted TensorFlow model /content/CadenceNet_Float/ to ONNX\n",
            "2023-03-04 09:26:27,530 - INFO - Model inputs: ['conv2d_input:0']\n",
            "2023-03-04 09:26:27,530 - INFO - Model outputs: ['softmax']\n",
            "2023-03-04 09:26:27,530 - INFO - ONNX model is saved at /content/CadenceNetOriginal_Float.onnx\n"
          ]
        }
      ]
    },
    {
      "cell_type": "code",
      "source": [
        "quant_file = \"/content/CadenceNetOriginal_QAT.tflite\"\n",
        "open(quant_file, \"wb\").write(quantized_tflite_model)"
      ],
      "metadata": {
        "colab": {
          "base_uri": "https://localhost:8080/"
        },
        "id": "-UgJyPkX5UKe",
        "outputId": "0430434b-b729-4632-e3f0-22935b12558e"
      },
      "execution_count": 38,
      "outputs": [
        {
          "output_type": "execute_result",
          "data": {
            "text/plain": [
              "1112856"
            ]
          },
          "metadata": {},
          "execution_count": 38
        }
      ]
    },
    {
      "cell_type": "code",
      "execution_count": 39,
      "metadata": {
        "colab": {
          "base_uri": "https://localhost:8080/"
        },
        "id": "T5iITOiiRP0M",
        "outputId": "8629f482-baaa-4d97-b9c9-9eaab36bb97b"
      },
      "outputs": [
        {
          "output_type": "stream",
          "name": "stdout",
          "text": [
            "Float model in Mb:  4.170186996459961\n",
            "Quantized model in Mb:  1.0613021850585938\n",
            "Float Model Accuracy:  0.7\n",
            "Quantized Model Accuracy:  0.68\n"
          ]
        }
      ],
      "source": [
        "\n",
        "print(\"Float model in Mb: \", os.path.getsize(\"/content/CadenceNetOriginal_Float.onnx\") / float(2**20))\n",
        "print(\"Quantized model in Mb: \", os.path.getsize(quant_file) / float(2**20))\n",
        "print(\"Float Model Accuracy: \", test_accuracy_Float)\n",
        "print(\"Quantized Model Accuracy: \", test_accuracy)"
      ]
    },
    {
      "cell_type": "code",
      "source": [],
      "metadata": {
        "id": "xh_ERgvr1BNy"
      },
      "execution_count": 39,
      "outputs": []
    }
  ],
  "metadata": {
    "accelerator": "GPU",
    "colab": {
      "provenance": [],
      "include_colab_link": true
    },
    "gpuClass": "standard",
    "kernelspec": {
      "display_name": "Python 3",
      "name": "python3"
    },
    "language_info": {
      "name": "python"
    }
  },
  "nbformat": 4,
  "nbformat_minor": 0
}